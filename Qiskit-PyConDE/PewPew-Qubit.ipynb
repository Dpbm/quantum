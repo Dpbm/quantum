{
 "cells": [
  {
   "cell_type": "markdown",
   "metadata": {},
   "source": [
    "# Playing with a qubit on a PewPew"
   ]
  },
  {
   "cell_type": "markdown",
   "metadata": {},
   "source": [
    "Prototype quantum computers are now on the cloud and ready to be experimented with. Larger scale devices, capable of things that no supercomputer can match, are already on their way. The technology is coming out of the lab and into the hands of everyone. So let's use them for stuff!\n",
    "\n",
    "If you are like most people, there are probably still a couple of barriers between you and quantum awesomeness\n",
    "* You don't know what quantum computers are, or how to program them;\n",
    "* You wouldn't know what to do with them anyway.\n",
    "\n",
    "This workshop aims to fix this. You will learn everything there is to know about the basic building block of quantum computing: the qubit. You'll then be challenged to use your new knowledge in a simple and creative task: creating a map for a computer game.\n",
    "\n",
    "Once you finish this short workshop, you'll still be left with some important questions. Such as why large collections of qubits are hard to simulate, and how they can do things that even a planet-size supercomputer never could. To help you with this, we'll show you some resources to continue your quantum journey. But before that, your journey of a thousand quantum programs must begin with a single qubit."
   ]
  },
  {
   "cell_type": "markdown",
   "metadata": {},
   "source": [
    "## Introduction to the PewPew\n",
    "\n",
    "The [PewPew](https://pewpew.readthedocs.io/en/latest/) is a handheld games console with 6 buttons and 64 pixels.\n",
    "\n",
    "<img src=\"images/pewpew.jpg\" width=\"750\"/>\n",
    "\n",
    "It provides a perfect environment for people to get their first taste of programming or game design. In this workshop we will also use it to get people started with quantum computing.\n",
    "\n",
    "### How to run PewPew programs\n",
    "\n",
    "Every code cell in this notebook that begins with `import pew` is a standalone program. To run them, pick one of the following three options.\n",
    "\n",
    "* Run on an actual PewPew by connecting it to your computer, and then copying the program into the `main.py` file on the device.\n",
    "\n",
    "* Run it in conjugation with the Pygame-based emulator for the PewPew.  You can do this by using a web-hosted service such as [this one](https://repl.it/@quantum_jim/pewpewtutorials) (Note that this is an external site, unaffiliated with Qiskit or IBM). You could also download all the files there. The `main.py` file is then were you put your programs, and run them on your own computer.\n",
    "\n",
    "* Run the cells in this notebook on your own computer to use a Matplotlib-based emulator. You'll first need to open and run [this notebook](controller.ipynb) to get the controller, and use both notebooks at the same time.\n",
    "\n",
    "If you are using the third option, start by firing up the matplotlib magic."
   ]
  },
  {
   "cell_type": "code",
   "execution_count": null,
   "metadata": {},
   "outputs": [],
   "source": [
    "%matplotlib notebook"
   ]
  },
  {
   "cell_type": "markdown",
   "metadata": {},
   "source": [
    "### Your first PewPew program\n",
    "\n",
    "Let's start with the most minimal example of a program for the PewPew. We will simply light up one of the pixels. This is done with the command `screen.pixel(X,Y,B)`, where `X` and `Y` are the coordinates of the pixel (each a number from 0 to 7) and `B` is the brightness (0 for off, and then 1, 2 and 3 from dim to bright).\n",
    "\n",
    "Here is a program that lights up the pixel at position X=6, Y=6 with maximum brightness, and sets the rest to a medium brightness."
   ]
  },
  {
   "cell_type": "code",
   "execution_count": null,
   "metadata": {},
   "outputs": [],
   "source": [
    "import pew # setting up tools for the pewpew\n",
    "\n",
    "pew.init() # initialize the game engine...\n",
    "screen = pew.Pix() # ...and the screen\n",
    "\n",
    "# fill the screen with medium brightness pixels\n",
    "for X in range(8):\n",
    "    for Y in range(8):\n",
    "        screen.pixel(X,Y,2)\n",
    "\n",
    "B = 3 # set brightness\n",
    "screen.pixel(6,6,B) # put a bright pixel at (6,6)\n",
    "\n",
    "pew.show(screen) # update screen to display the above changes\n",
    "\n",
    "pew.tick(5) # pause for 5 seconds before quitting"
   ]
  },
  {
   "cell_type": "markdown",
   "metadata": {},
   "source": [
    "The PewPew's buttons allow you to interact with what is happening on screen. To implement this, we need a loop to allow the program to keep periodically checking for input.\n",
    "\n",
    "The input is described by `keys=pew.keys()`, which takes certain values depending on which button is being pressed. Pressing 'Up' gives the value described by `pew.K_UP`, and so on. Pressing multiple buttons will give a value that describes the combination. To filter out whether a given button is pressed we therefore use Python's `&` operation, such as `keys&pew.K_UP` to check for 'Up'.\n",
    "\n",
    "Using this information, we can construct `if`-`else` statements to control what the program does when a button is pressed. We'll simply use the 'Up' button (up arrow on a keyboard) to control whether the pixel at (6,6) is on or not."
   ]
  },
  {
   "cell_type": "code",
   "execution_count": null,
   "metadata": {},
   "outputs": [],
   "source": [
    "import pew # setting up tools for the pewpew\n",
    "\n",
    "pew.init() # initialize the game engine...\n",
    "screen = pew.Pix() # ...and the screen\n",
    "\n",
    "# fill the screen with medium brightness pixels\n",
    "for X in range(8):\n",
    "    for Y in range(8):\n",
    "        screen.pixel(X,Y,2)\n",
    "        \n",
    "B = 3 # set initial brightness\n",
    "\n",
    "pressing = False\n",
    "while True: # loop which checks for user input and responds\n",
    "\n",
    "    keys = pew.keys() # get current key presses\n",
    "    if not pressing:\n",
    "        if keys&pew.K_X: # pressing X turns off the program\n",
    "            break\n",
    "        if keys&pew.K_UP: # if UP is pressed, increase brightness of pixel at at (6,6)\n",
    "            B = min(B+1,3)\n",
    "        if keys&pew.K_DOWN: # if DOWN is pressed, decrease brightness of pixel at at (6,6)\n",
    "            B = max(B-1,0)\n",
    "        if keys:\n",
    "            pressing = True\n",
    "    else:\n",
    "        if not keys:\n",
    "            pressing = False\n",
    "            \n",
    "    screen.pixel(6,6,B) # put a pixel at (6,6) with current brightness\n",
    "\n",
    "    pew.show(screen) # update screen to display the above changes\n",
    "\n",
    "    pew.tick(1/6) # pause for a sixth of a second"
   ]
  },
  {
   "cell_type": "markdown",
   "metadata": {},
   "source": [
    "##  Qubit on the PewPew\n",
    "\n",
    "Qiskit is the largest, most feature rich and most well developed framework for quantum computing. This is obviously a good thing in general, but it can be overwhelming for those getting started.\n",
    "\n",
    "For that reason, we have created MicroQiskit: the smallest, least feature rich and least developed framework for quantum computing! It has everything you need to get to know single and two qubit circuits, and do so with the same syntax as Qiskit. By mastering MicroQiskit, you'll be well on your way to mastering Qiskit.\n",
    "\n",
    "Here we will use this on the PewPew. To do this, take the file named 'MicroQiskit.py', included in this folder, and place it on your PewPew. You will then be able to run the program below. If you are running an emulator on your own device, make sure that 'MicroQiskit.py' is in the same folder as the 'Pew.py' file."
   ]
  },
  {
   "cell_type": "markdown",
   "metadata": {},
   "source": [
    "Below we embed a qubit into a PewPew program. This will be used to the brightness of the pixel at (6,6), with it going dark for the output `0`, and bright for `1`.\n",
    "\n",
    "The 'Up' and 'Down' buttons can be used to add gates to `qc`. The 'Up' button is used for `x`. This acts like a classical NOT gate by flipping between `0` and `1`. The 'Down' button adds `h`, a gate which will need a little explanation. But first, experiment for yourself."
   ]
  },
  {
   "cell_type": "code",
   "execution_count": null,
   "metadata": {},
   "outputs": [],
   "source": [
    "import pew # setting up tools for the pewpew\n",
    "from microqiskit import QuantumCircuit, simulate # setting up tools for quantum\n",
    "\n",
    "pew.init() # initialize the game engine...\n",
    "screen = pew.Pix() # ...and the screen\n",
    "\n",
    "# fill the screen with dim pixels\n",
    "for X in range(8):\n",
    "    for Y in range(8):\n",
    "        screen.pixel(X,Y,2)\n",
    "        \n",
    "pew.show(screen) # update screen to display the above changes\n",
    "\n",
    "qc = QuantumCircuit(1,1) # create an empty single qubit circuit\n",
    "\n",
    "# create a circuit that measures the qubit in the z basis\n",
    "m_z = QuantumCircuit(1,1)\n",
    "m_z.measure(0,0)\n",
    "\n",
    "pressing = False\n",
    "while True: # loop which checks for user input and responds\n",
    "\n",
    "    keys = pew.keys() # get current key presses\n",
    "    if not pressing:\n",
    "        if keys&pew.K_X: # pressing X turns off the program\n",
    "            break\n",
    "        if keys&pew.K_UP: # if UP is pressed, add an x gate\n",
    "            qc.x(0)\n",
    "        if keys&pew.K_DOWN: # if DOWN is pressed, add an h gate\n",
    "            qc.h(0)\n",
    "        if keys:\n",
    "            pressing = True\n",
    "    else:\n",
    "        if not keys:\n",
    "            pressing = False\n",
    "     \n",
    "    # get the output from the current circuit\n",
    "    full_circuit = qc + m_z\n",
    "    bit = simulate(full_circuit,shots=1,get='memory')[0]\n",
    "    \n",
    "    # set the brightness of 6,6 according to the output\n",
    "    if bit=='1':\n",
    "        B = 3\n",
    "    else:\n",
    "        B = 0  \n",
    "    \n",
    "    screen.pixel(6,6,B) # put a pixel at (6,1) with current brightness\n",
    "\n",
    "    pew.show(screen) # update screen to display the above changes\n",
    "\n",
    "    pew.tick(1/6) # pause for a sixth of a second"
   ]
  },
  {
   "cell_type": "markdown",
   "metadata": {},
   "source": [
    "If you start with a qubit that is certain to output `0`, and then apply an `h`, you get a random result. But apply it again, and you are back to a certain `0`. Similarly, if you start with a certain output of `1`, a single `h` creates randomness. But another `h` gets you back to `1`.\n",
    "\n",
    "This shows us something important about `h`. Though it seems to create randomness, it does not do it in the same way as a dice roll or coin flip. The information about the initial state is not forgotten. It is just moved somewhere. But where?\n",
    "\n",
    "To answer this question, we'll use 'O' to change between making a z mesurement, and making an x measurement. The outcome for an x measurement will then be display on pixel (1,1)."
   ]
  },
  {
   "cell_type": "code",
   "execution_count": null,
   "metadata": {
    "scrolled": false
   },
   "outputs": [],
   "source": [
    "import pew # setting up tools for the pewpew\n",
    "from microqiskit import QuantumCircuit, simulate # setting up tools for quantum\n",
    "from math import pi\n",
    "\n",
    "pew.init() # initialize the game engine...\n",
    "screen = pew.Pix() # ...and the screen\n",
    "\n",
    "# fill the screen with dim pixels\n",
    "for X in range(8):\n",
    "    for Y in range(8):\n",
    "        screen.pixel(X,Y,2)\n",
    "        \n",
    "pew.show(screen) # update screen to display the above changes\n",
    "\n",
    "qc = QuantumCircuit(1,1) # create an empty single qubit circuit\n",
    "\n",
    "# create a circuit that measures the qubit in the z basis\n",
    "m_z = QuantumCircuit(1,1)\n",
    "m_z.measure(0,0)\n",
    "\n",
    "# create a circuit that measures the qubit in the x basis\n",
    "m_x = QuantumCircuit(1,1)\n",
    "m_x.h(0)\n",
    "m_x.measure(0,0)\n",
    "\n",
    "basis = 'z' # set initial measurement basis\n",
    "\n",
    "pressing = False\n",
    "while True: # loop which checks for user input and responds\n",
    "\n",
    "    keys = pew.keys() # get current key presses\n",
    "    if not pressing:\n",
    "        if keys&pew.K_X: # pressing X turns off the program\n",
    "            break\n",
    "        if keys&pew.K_UP: # if UP is pressed, add an x gate\n",
    "            qc.x(0)\n",
    "        if keys&pew.K_DOWN: # if DOWN is pressed, add an h gate\n",
    "            qc.h(0) \n",
    "        if keys&pew.K_O:\n",
    "            basis = (basis=='z')*'x' + (basis=='x')*'z'\n",
    "        if keys:\n",
    "            pressing = True\n",
    "    else:\n",
    "        if not keys:\n",
    "            pressing = False\n",
    "     \n",
    "    # get the output from the current circuit\n",
    "    if basis=='z':\n",
    "        full_circuit = qc + m_z\n",
    "    elif basis=='x':\n",
    "        full_circuit = qc + m_x\n",
    "    bit = simulate(full_circuit,shots=1,get='memory')[0]\n",
    "    \n",
    "    # set the brightness of 6,6 according to the output\n",
    "    if bit=='1':\n",
    "        B = 3\n",
    "    else:\n",
    "        B = 0\n",
    "    if basis=='z':\n",
    "        screen.pixel(6,6,B)\n",
    "        screen.pixel(1,1,2)\n",
    "    elif basis=='x':\n",
    "        screen.pixel(6,6,2)\n",
    "        screen.pixel(1,1,B)\n",
    "\n",
    "    pew.show(screen) # update screen to display the above changes\n",
    "\n",
    "    pew.tick(1/6) # pause for a sixth of a second"
   ]
  },
  {
   "cell_type": "markdown",
   "metadata": {},
   "source": [
    "Whenever the output of a one of these measurements is certain, the output for the other is random. The `h` gate simply swaps information between the two bases.\n",
    "\n",
    "Let's add in the y measurement too, as well as another gate."
   ]
  },
  {
   "cell_type": "code",
   "execution_count": null,
   "metadata": {},
   "outputs": [],
   "source": [
    "import pew # setting up tools for the pewpew\n",
    "from microqiskit import QuantumCircuit, simulate # setting up tools for quantum\n",
    "from math import pi\n",
    "\n",
    "pew.init() # initialize the game engine...\n",
    "screen = pew.Pix() # ...and the screen\n",
    "\n",
    "# fill the screen with dim pixels\n",
    "for X in range(8):\n",
    "    for Y in range(8):\n",
    "        screen.pixel(X,Y,2)\n",
    "        \n",
    "pew.show(screen) # update screen to display the above changes\n",
    "\n",
    "qc = QuantumCircuit(1,1) # create an empty single qubit circuit\n",
    "\n",
    "# create a circuit that measures the qubit in the z basis\n",
    "m_z = QuantumCircuit(1,1)\n",
    "m_z.measure(0,0)\n",
    "\n",
    "# create a circuit that measures the qubit in the x basis\n",
    "m_x = QuantumCircuit(1,1)\n",
    "m_x.h(0)\n",
    "m_x.measure(0,0)\n",
    "\n",
    "# create a circuit that measures the qubit in the y basis\n",
    "m_y = QuantumCircuit(1,1)\n",
    "m_y.rx(pi/2,0)\n",
    "m_y.measure(0,0)\n",
    "\n",
    "basis = 'z' # set initial measurement basis\n",
    "\n",
    "pressing = False\n",
    "while True: # loop which checks for user input and responds\n",
    "\n",
    "    keys = pew.keys() # get current key presses\n",
    "    if not pressing:\n",
    "        if keys&pew.K_X: # pressing X turns off the program\n",
    "            break\n",
    "        if keys&pew.K_UP: # if UP is pressed, add an x gate\n",
    "            qc.x(0)\n",
    "        if keys&pew.K_DOWN: # if DOWN is pressed, add an h gate\n",
    "            qc.h(0)\n",
    "        if keys&pew.K_LEFT: # if LEFT is pressed, add a sqrt(x) gate\n",
    "            qc.rx(pi/2,0)\n",
    "        if keys&pew.K_O:\n",
    "            basis = (basis=='z')*'x' + (basis=='x')*'y'+ (basis=='y')*'z'\n",
    "        if keys:\n",
    "            pressing = True\n",
    "    else:\n",
    "        if not keys:\n",
    "            pressing = False\n",
    "     \n",
    "    # get the output from the current circuit\n",
    "    if basis=='z':\n",
    "        full_circuit = qc + m_z\n",
    "    elif basis=='x':\n",
    "        full_circuit = qc + m_x\n",
    "    elif basis=='y':\n",
    "        full_circuit = qc + m_y\n",
    "    bit = simulate(full_circuit,shots=1,get='memory')[0]\n",
    "    \n",
    "    # set the brightness of 6,6 according to the output\n",
    "    if bit=='1':\n",
    "        B = 3\n",
    "    else:\n",
    "        B = 0\n",
    "    if basis=='z':\n",
    "        screen.pixel(6,6,B)\n",
    "        screen.pixel(6,1,2)\n",
    "        screen.pixel(1,1,2)\n",
    "    elif basis=='x':\n",
    "        screen.pixel(6,6,2)\n",
    "        screen.pixel(6,1,2)\n",
    "        screen.pixel(1,1,B)\n",
    "    elif basis=='y':\n",
    "        screen.pixel(6,6,2)\n",
    "        screen.pixel(6,1,B)\n",
    "        screen.pixel(1,1,2)\n",
    "\n",
    "    pew.show(screen) # update screen to display the above changes\n",
    "\n",
    "    pew.tick(1/6) # pause for a sixth of a second"
   ]
  },
  {
   "cell_type": "markdown",
   "metadata": {},
   "source": [
    "The gate on the 'Left' button is `qc.rx(pi/2,0)`. There are two important things to note about its effects.\n",
    "\n",
    "Firstly, let's look at the effects of applying it once. This allows the output of the y measurement to be certain, and makes the other two random.\n",
    "\n",
    "With all the gates available, we will find that whenever the output for one measurement type is certain, the others are completely random. The gates allow us change the bit value, move it around.\n",
    "\n",
    "The reason that qubits behave in this way is that they are quantum objects, and are therefore bound to obey Heisenberg's uncertainty principle.\n",
    "\n",
    "Despite the multiple ways to extract a bit from a qubit, a qubit is only able to store a single bit. It has a single bit's worth of certainty that it shares among the x, y and z basis. When one is certain of what that bit is, the others must be completely uncertain.\n",
    "\n",
    "To explore this gate further, we need to look at the maths behind the single qubit. Fortunately, this is quite simple to visualize, but we'll need to leave the PewPew to do it."
   ]
  },
  {
   "cell_type": "markdown",
   "metadata": {},
   "source": [
    "## Visualizing Qubit Rotations"
   ]
  },
  {
   "cell_type": "markdown",
   "metadata": {},
   "source": [
    "We'll now use some tools from the full version of Qiskit to visualize single qubit circuits.\n",
    "\n",
    "Specifically, we set up the following function to take a quantum circuit as input and run it with each of the three types of measurment. The results are then collected in a from that can be plotted using the `plot_bloch_vector` tool from Qiskit.\n",
    "\n",
    "The easiest way to try this for yourself is to go to [this website](https://quantum-computing.ibm.com/jupyter), where Qiskit is already set up for you. If you don't already have a (free) account, you'll need to sign up first.\n",
    "\n",
    "You will need to click on the 'New Notebook' button. Then replace the contents of the first cell with the following and run it.\n",
    "\n",
    "If you are just running things in this notebook, simply run the cell here."
   ]
  },
  {
   "cell_type": "code",
   "execution_count": null,
   "metadata": {},
   "outputs": [],
   "source": [
    "%matplotlib inline\n",
    "from qiskit import QuantumCircuit, execute, Aer, IBMQ\n",
    "from qiskit.compiler import transpile, assemble\n",
    "from qiskit.tools.jupyter import *\n",
    "from qiskit.visualization import *\n",
    "\n",
    "# Set up tools for visualizing the Bloch sphere\n",
    "from math import pi\n",
    "def get_bloch(qc):\n",
    "    \n",
    "    # create a circuit that measures the qubit in the z basis\n",
    "    m_z = QuantumCircuit(1,1)\n",
    "    m_z.measure(0,0)\n",
    "\n",
    "    # create a circuit that measures the qubit in the x basis\n",
    "    m_x = QuantumCircuit(1,1)\n",
    "    m_x.h(0)\n",
    "    m_x.measure(0,0)\n",
    "\n",
    "    # create a circuit that measures the qubit in the y basis\n",
    "    m_y = QuantumCircuit(1,1)\n",
    "    m_y.rx(pi/2,0)\n",
    "    m_y.measure(0,0)\n",
    "\n",
    "    shots = 2**14 # number of samples used for statistics\n",
    "\n",
    "    bloch_vector = []\n",
    "    # look at each possible measurement\n",
    "    for measure_circuit in [m_x, m_y, m_z]:\n",
    "\n",
    "        # run the circuit with a the selected measurement and get the number of samples that output each bit value\n",
    "        counts = execute(qc+measure_circuit,Aer.get_backend('qasm_simulator'),shots=shots).result().get_counts()\n",
    "\n",
    "        # calculate the probabilities for each bit value\n",
    "        probs = {}\n",
    "        for output in ['0','1']:\n",
    "            if output in counts:\n",
    "                probs[output] = counts[output]/shots\n",
    "            else:\n",
    "                probs[output] = 0\n",
    "\n",
    "        # the bloch vector needs the different between these values\n",
    "        bloch_vector.append( probs['0'] -  probs['1'] )\n",
    "        \n",
    "    return bloch_vector"
   ]
  },
  {
   "cell_type": "markdown",
   "metadata": {},
   "source": [
    "Let's first try it out on an empty circuit."
   ]
  },
  {
   "cell_type": "code",
   "execution_count": null,
   "metadata": {},
   "outputs": [],
   "source": [
    "qc = QuantumCircuit(1,1)"
   ]
  },
  {
   "cell_type": "markdown",
   "metadata": {},
   "source": [
    "Remember that this circuit outputs a `0` with certainty for a z measurement, but is random for the others."
   ]
  },
  {
   "cell_type": "code",
   "execution_count": null,
   "metadata": {},
   "outputs": [],
   "source": [
    "plot_bloch_vector(get_bloch(qc))"
   ]
  },
  {
   "cell_type": "markdown",
   "metadata": {},
   "source": [
    "The state of the qubit is represented as a point in 3D space. The vertical axis corresponds to the probability of getting a `0` or a `1` for the z measurement. If the qubit is certain to output `0`, as we see here, the point lies at the top of the image.\n",
    "\n",
    "Now let's see what happens when the z measurement is certain to output `1`."
   ]
  },
  {
   "cell_type": "code",
   "execution_count": null,
   "metadata": {},
   "outputs": [],
   "source": [
    "qc = QuantumCircuit(1,1)\n",
    "qc.x(0)\n",
    "\n",
    "plot_bloch_vector(get_bloch(qc))"
   ]
  },
  {
   "cell_type": "markdown",
   "metadata": {},
   "source": [
    "Here the point is at the bottom. So the positions of these completely opposing outcomes are completely opposing points.\n",
    "\n",
    "We should also mention what is going on with the x and y axes. These correspond to the probability of the outputs for x and y measurements, respectively. Since these outputs are random, with no bias towards `0` or `1`, the points above lie in the middle of these axes.\n",
    "\n",
    "Now let's look at qubits that are certain of their outputs for the x measurement. First for `0`."
   ]
  },
  {
   "cell_type": "code",
   "execution_count": null,
   "metadata": {},
   "outputs": [],
   "source": [
    "qc = QuantumCircuit(1,1)\n",
    "qc.h(0)\n",
    "\n",
    "plot_bloch_vector(get_bloch(qc))"
   ]
  },
  {
   "cell_type": "markdown",
   "metadata": {},
   "source": [
    "Then for `1`."
   ]
  },
  {
   "cell_type": "code",
   "execution_count": null,
   "metadata": {},
   "outputs": [],
   "source": [
    "qc = QuantumCircuit(1,1)\n",
    "qc.x(0)\n",
    "qc.h(0)\n",
    "\n",
    "plot_bloch_vector(get_bloch(qc))"
   ]
  },
  {
   "cell_type": "markdown",
   "metadata": {},
   "source": [
    "Again, the states are represented by opposing points, this time represented as points along the x axis.\n",
    "\n",
    "The states with certain outcomes for the y measurement will hold no suprises. First `0`"
   ]
  },
  {
   "cell_type": "code",
   "execution_count": null,
   "metadata": {},
   "outputs": [],
   "source": [
    "qc = QuantumCircuit(1,1)\n",
    "qc.rx(-pi/2,0)\n",
    "\n",
    "plot_bloch_vector(get_bloch(qc))"
   ]
  },
  {
   "cell_type": "markdown",
   "metadata": {},
   "source": [
    "And then `1`."
   ]
  },
  {
   "cell_type": "code",
   "execution_count": null,
   "metadata": {},
   "outputs": [],
   "source": [
    "qc = QuantumCircuit(1,1)\n",
    "qc.rx(pi/2,0)\n",
    "\n",
    "plot_bloch_vector(get_bloch(qc))"
   ]
  },
  {
   "cell_type": "markdown",
   "metadata": {},
   "source": [
    "So far we have mapped out six points. Now it's time to see why this visualization uses a sphere. For this we need to use some other gates. Specifically, let's try a few different numbers for the first argument of the `rx` gate.\n",
    "\n",
    "First, $1/8$ of what is required for an `x`."
   ]
  },
  {
   "cell_type": "code",
   "execution_count": null,
   "metadata": {},
   "outputs": [],
   "source": [
    "qc = QuantumCircuit(1,1)\n",
    "qc.rx(pi*1/8,0)\n",
    "plot_bloch_vector(get_bloch(qc))"
   ]
  },
  {
   "cell_type": "markdown",
   "metadata": {},
   "source": [
    "Then $2/8$."
   ]
  },
  {
   "cell_type": "code",
   "execution_count": null,
   "metadata": {},
   "outputs": [],
   "source": [
    "qc = QuantumCircuit(1,1)\n",
    "qc.rx(pi*2/8,0)\n",
    "plot_bloch_vector(get_bloch(qc))"
   ]
  },
  {
   "cell_type": "markdown",
   "metadata": {},
   "source": [
    "Now $3/8$."
   ]
  },
  {
   "cell_type": "code",
   "execution_count": null,
   "metadata": {},
   "outputs": [],
   "source": [
    "qc = QuantumCircuit(1,1)\n",
    "qc.rx(pi*3/8,0)\n",
    "plot_bloch_vector(get_bloch(qc))"
   ]
  },
  {
   "cell_type": "markdown",
   "metadata": {},
   "source": [
    "And finally $4/8=1/2$."
   ]
  },
  {
   "cell_type": "code",
   "execution_count": null,
   "metadata": {},
   "outputs": [],
   "source": [
    "qc = QuantumCircuit(1,1)\n",
    "qc.rx(pi*4/8,0)\n",
    "plot_bloch_vector(get_bloch(qc))"
   ]
  },
  {
   "cell_type": "markdown",
   "metadata": {},
   "source": [
    "With this visualization, the `rx` gate can be understood as a rotation around the `x` axes, expressed in radians. A $\\pi$ rotation flips the qubit on its head, flipping `0` to `1` and `1` to `0`, which is the effect we know from the `x` gate. Other angles explore other points along the way, but the qubit state always corresponds to somewhere on the surface of the sphere. This restriction is the form that Heisenberg's uncertainty principle takes for qubits: any point outside of the sphere is too certain of too many things.\n",
    "\n",
    "All other points on the sphere can also be reached, but this will require the gate `rz` as well. This is for rotations around the z axis. Starting from the same state as above, here is a $\\pi/8$ rotation."
   ]
  },
  {
   "cell_type": "code",
   "execution_count": null,
   "metadata": {},
   "outputs": [],
   "source": [
    "qc = QuantumCircuit(1,1)\n",
    "qc.rx(pi*4/8,0)\n",
    "qc.rz(pi*1/8,0)\n",
    "plot_bloch_vector(get_bloch(qc))"
   ]
  },
  {
   "cell_type": "markdown",
   "metadata": {},
   "source": [
    "Now we add another $\\pi/8$ rotation around the z axis."
   ]
  },
  {
   "cell_type": "code",
   "execution_count": null,
   "metadata": {},
   "outputs": [],
   "source": [
    "qc = QuantumCircuit(1,1)\n",
    "qc.rx(pi*4/8,0)\n",
    "qc.rz(pi*2/8,0)\n",
    "plot_bloch_vector(get_bloch(qc))"
   ]
  },
  {
   "cell_type": "markdown",
   "metadata": {},
   "source": [
    "And another."
   ]
  },
  {
   "cell_type": "code",
   "execution_count": null,
   "metadata": {},
   "outputs": [],
   "source": [
    "qc = QuantumCircuit(1,1)\n",
    "qc.rx(pi*4/8,0)\n",
    "qc.rz(pi*3/8,0)\n",
    "plot_bloch_vector(get_bloch(qc))"
   ]
  },
  {
   "cell_type": "markdown",
   "metadata": {},
   "source": [
    "And another."
   ]
  },
  {
   "cell_type": "code",
   "execution_count": null,
   "metadata": {},
   "outputs": [],
   "source": [
    "qc = QuantumCircuit(1,1)\n",
    "qc.rx(pi*4/8,0)\n",
    "qc.rz(pi*4/8,0)\n",
    "plot_bloch_vector(get_bloch(qc))"
   ]
  },
  {
   "cell_type": "markdown",
   "metadata": {},
   "source": [
    "You can similarly use `ry` for rotations around the y axes. Together, the world of the single qubit is under your control."
   ]
  },
  {
   "cell_type": "code",
   "execution_count": null,
   "metadata": {},
   "outputs": [],
   "source": [
    "qc = QuantumCircuit(1,1)\n",
    "qc.rx(pi*4/8,0)\n",
    "qc.rz(pi*4/8,0)\n",
    "qc.ry(-pi*1/8,0)\n",
    "plot_bloch_vector(get_bloch(qc))"
   ]
  },
  {
   "cell_type": "markdown",
   "metadata": {},
   "source": [
    "## What next?\n",
    "\n",
    "Now you've done some learning, you might be eager to start actually doing something. If so, check out our idea for a mini [**Single qubit hackathon**](https://nbviewer.jupyter.org/github/quantumjim/MicroQiskit/blob/master/Terrain-Hackathon.ipynb).\n",
    "\n",
    "Also take a look at the [games people have made using quantum computing](https://mybinder.org/v2/gh/qiskit/qiskit-community-tutorials/master?filepath=ganes%2FHello_Qiskit.ipynb). These have game mechanics inspired by and implemented with qubits. Many of these use only the properties of a single qubit. So you are already ready to make quantum games!\n",
    "\n",
    "If you want to learn about more than one qubit, check out the [Qiskit Textbook](https://community.qiskit.org/textbook/). Chapter 1 starts off by giving a math-free taste of how quantum computers will work, and how qubits are unlike any variable in normal computers. Chapter 1 and Chapter 2 then go on to explain build up a mathematical description of qubits, which is then used in later chapters to explain how the devices can do useful things.\n",
    "\n",
    "Too stick with few qubits and no maths, check out [this puzzle game](http://ibm.biz/hello-qiskit). It visualizes and explains the inner workings of two qubits."
   ]
  },
  {
   "cell_type": "code",
   "execution_count": null,
   "metadata": {},
   "outputs": [],
   "source": []
  }
 ],
 "metadata": {
  "kernelspec": {
   "display_name": "Python 3",
   "language": "python",
   "name": "python3"
  },
  "language_info": {
   "codemirror_mode": {
    "name": "ipython",
    "version": 3
   },
   "file_extension": ".py",
   "mimetype": "text/x-python",
   "name": "python",
   "nbconvert_exporter": "python",
   "pygments_lexer": "ipython3",
   "version": "3.7.0"
  }
 },
 "nbformat": 4,
 "nbformat_minor": 2
}
