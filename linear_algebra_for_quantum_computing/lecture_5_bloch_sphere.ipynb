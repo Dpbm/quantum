{
 "cells": [
  {
   "cell_type": "markdown",
   "metadata": {},
   "source": [
    "## Qubits, the Bloch Sphere, and Basis States"
   ]
  },
  {
   "cell_type": "markdown",
   "metadata": {},
   "source": [
    "## Installs and Imports\n",
    "\n",
    "We will need to install Qiskit, IBM's quantum computing language. Then we will need to import qiskits tools for creating Bloch sphere representations of qubits. "
   ]
  },
  {
   "cell_type": "code",
   "execution_count": null,
   "metadata": {},
   "outputs": [],
   "source": [
    "pip install qiskit"
   ]
  },
  {
   "cell_type": "code",
   "execution_count": null,
   "metadata": {},
   "outputs": [],
   "source": [
    "import numpy as np\n",
    "from qiskit import *\n",
    "from qiskit.visualization import plot_bloch_vector\n",
    "%matplotlib inline"
   ]
  },
  {
   "cell_type": "markdown",
   "metadata": {},
   "source": [
    "## Qubits, the Bloch Sphere, and Basis States"
   ]
  },
  {
   "cell_type": "markdown",
   "metadata": {},
   "source": [
    "Qubits are the basic unit of computation in a quantum computer, much like bits are the basic unit of computation in a \"classical\" computer. In bit based computing we have silicon chips with transistors which serve as \"on/off\" switches that serve as building blocks for complex systems of logic gates implementing Boolean logic. In a quantum computer, these \"on/off\" bits represented by strings of 0s and 1s are replaced by **qubits**. Qubits behave much differently from classical bits, but any classical computation involving bits can still be implemented on a quantum system of qubits. However, much more can be done qubits. They provide computational abilities that bits, classical computing, and classical information processing simply cannot replicate or accurately simulate. In some cases there are quantum information processes which provide a new paradigm for understanding information theory and computational complexity. Here we will focus on the basics and leave quantum complexity and subjects like entanglement entropy for the appendix at the end of the book on **tensor networks**. \n",
    "\n",
    "Qubits have many representations, the most common of them being as a $2$-dimensional complex unit vector: \n",
    "\n",
    "\\begin{align}\n",
    "|\\psi \\rangle = \\begin{pmatrix}\n",
    "\\alpha \\\\ \\beta\n",
    "\\end{pmatrix}, \\quad \\text{where } \\sqrt{\\langle \\psi | \\psi \\rangle} = 1. \n",
    "\\end{align}\n",
    "\n",
    "From the condition that the vector be of length one, we can deduce the following:\n",
    "\n",
    "\\begin{align}\n",
    "\\sqrt{\\langle \\psi | \\psi \\rangle} &= \\begin{pmatrix} \\alpha^*, & \\beta^* \\end{pmatrix}\\begin{pmatrix} \\alpha \\\\ \\beta \\end{pmatrix} \\\\\n",
    "&= \\sqrt{\\alpha^* \\alpha+ \\beta^* \\beta}\\\\\n",
    "&= \\sqrt{|\\alpha|^2 +|\\beta|^2} = 1 \\implies |\\alpha|^2 +|\\beta|^2 = 1. \n",
    "\\end{align}\n",
    "\n",
    "Remember, $\\alpha$ and $\\beta$ are complex numbers (elements of $\\mathbb{C}$), and so the vector $|\\psi \\rangle \\in \\mathbb{C}^2$. The vectors representing qubit **[pure states](https://en.wikipedia.org/wiki/Quantum_state#Pure_states)** actually live on the **Riemann sphere** also called the **[complex projective line](https://en.wikipedia.org/wiki/Riemann_sphere#As_the_complex_projective_line)** $\\mathbb{P}^1(\\mathbb{C})$. \n",
    "\n",
    "The second representation, which comes from the representation of pure states as points on the Riemann sphere and that is very common in the literature and in software packages for quantum computing is via the **[Bloch sphere](https://en.wikipedia.org/wiki/Bloch_sphere)**, named after the Nobel laureate and physicist [Felix Bloch](https://en.wikipedia.org/wiki/Felix_Bloch). Generally, the north pole represents the basis state \n",
    "\n",
    "\\begin{align}\n",
    "|0\\rangle = \\begin{pmatrix} 1\\\\0 \\end{pmatrix}\n",
    "\\end{align}\n",
    "\n",
    "We can visualize this in Qiskit as follows:"
   ]
  },
  {
   "cell_type": "code",
   "execution_count": null,
   "metadata": {},
   "outputs": [],
   "source": [
    "plot_bloch_vector([0,0,1], title=\"Spin-Up\")"
   ]
  },
  {
   "cell_type": "markdown",
   "metadata": {},
   "source": [
    "## Pauli Basis States\n",
    "\n",
    "In general we have the following six basis states in terms of the \"**Puali matrices**\" which we will define later. \n",
    "\n",
    "### Spin-up/Spin-down (z-axis)\n",
    "\n",
    "\\begin{align}\n",
    "\\text{spin-up}: \\ |0\\rangle &= \\begin{pmatrix} 1\\\\0 \\end{pmatrix} \\\\\n",
    "\\text{spin-down}: \\ |1\\rangle & = \\begin{pmatrix} 0\\\\1 \\end{pmatrix}\n",
    "\\end{align}"
   ]
  },
  {
   "cell_type": "code",
   "execution_count": null,
   "metadata": {},
   "outputs": [],
   "source": [
    "plot_bloch_vector([0,0,1], title=\"Spin-Up\")"
   ]
  },
  {
   "cell_type": "code",
   "execution_count": null,
   "metadata": {},
   "outputs": [],
   "source": [
    "plot_bloch_vector([0,0,-1], title=\"Spin-Down\")"
   ]
  },
  {
   "cell_type": "markdown",
   "metadata": {},
   "source": [
    "### Spin-right/Spin-left (x-axis)\n",
    "\n",
    "\\begin{align}\n",
    "\\text{spin-right}: \\ |r\\rangle &= \\begin{pmatrix} 1/\\sqrt{2} \\\\ i/\\sqrt{2} \\end{pmatrix} = \\frac{1}{\\sqrt{2}} \\left(|0\\rangle + i|1\\rangle\\right) \\\\\n",
    "\\text{spin-left}: \\ |l\\rangle & = \\begin{pmatrix} 1/\\sqrt{2} \\\\ -i/\\sqrt{2} \\end{pmatrix} = \\frac{1}{\\sqrt{2}} \\left(|0\\rangle - i|1\\rangle\\right)\n",
    "\\end{align}"
   ]
  },
  {
   "cell_type": "code",
   "execution_count": null,
   "metadata": {},
   "outputs": [],
   "source": [
    "plot_bloch_vector([0,1,0], title=\"Spin-Right\")"
   ]
  },
  {
   "cell_type": "code",
   "execution_count": null,
   "metadata": {},
   "outputs": [],
   "source": [
    "plot_bloch_vector([0,-1,0], title=\"Spin-Left\")"
   ]
  },
  {
   "cell_type": "markdown",
   "metadata": {},
   "source": [
    "### Spin +/Spin - (y-axis)\n",
    "\n",
    "\\begin{align}\n",
    "\\text{spin +}: \\ |+\\rangle &= \\begin{pmatrix} 1/\\sqrt{2} \\\\ 1/\\sqrt{2} \\end{pmatrix} = \\frac{1}{\\sqrt{2}} \\left(|0\\rangle + |1\\rangle\\right) \\\\\n",
    "\\text{spin -}: \\ |-\\rangle & = \\begin{pmatrix} 1/\\sqrt{2} \\\\ -1/\\sqrt{2} \\end{pmatrix} = \\frac{1}{\\sqrt{2}} \\left(|0\\rangle - |1\\rangle\\right)\n",
    "\\end{align}"
   ]
  },
  {
   "cell_type": "code",
   "execution_count": null,
   "metadata": {},
   "outputs": [],
   "source": [
    "plot_bloch_vector([1,0,0], title=\"Spin-Plus\")"
   ]
  },
  {
   "cell_type": "code",
   "execution_count": null,
   "metadata": {},
   "outputs": [],
   "source": [
    "plot_bloch_vector([-1,0,0], title=\"Spin-Minus\")"
   ]
  },
  {
   "cell_type": "markdown",
   "metadata": {},
   "source": [
    "### Arbitrary State Vectors"
   ]
  },
  {
   "cell_type": "markdown",
   "metadata": {},
   "source": [
    "If we want to define an arbitrary sate vector on the Bloch sphere we simply need to define a unit vector in $3$-dimensional space as the input state. To do this, define any $3$-dimensional vector, then divide it by its length (or norm). This will give a vector of length one, which can then be used as an input for Qiskit to plot on the Bloch sphere. \n",
    "\n",
    "An arbitrary pure state can be represented as some linear combination:\n",
    "\n",
    "\\begin{align}\n",
    "|\\psi \\rangle =\n",
    "\\begin{pmatrix}\n",
    "\\alpha \\\\ \\beta\n",
    "\\end{pmatrix} = \\alpha |0\\rangle + \\beta |1\\rangle\n",
    "\\end{align}\n",
    "\n",
    "where $|\\alpha|^2 + |\\beta|^2 = 1$. "
   ]
  },
  {
   "cell_type": "code",
   "execution_count": null,
   "metadata": {},
   "outputs": [],
   "source": [
    "# Define a 3-dimensional vector\n",
    "vect = np.array([1, -1, 1])\n",
    "\n",
    "# Divide it by its length (or norm)\n",
    "psi = vect/(np.linalg.norm(vect))\n",
    "print(psi)"
   ]
  },
  {
   "cell_type": "code",
   "execution_count": null,
   "metadata": {},
   "outputs": [],
   "source": [
    "# Plot psi on the Bloch sphere using Qiskit\n",
    "plot_bloch_vector(psi, title=\"psi\")"
   ]
  },
  {
   "cell_type": "markdown",
   "metadata": {},
   "source": [
    "We could also use *spherical coordinates* to define a unit vector that always lies on the surface of the unit sphere in $3$-dimensions, which is the Bloch sphere. To do this, we choose $\\rho = 1$, and then choose two angles $\\phi \\in [0, \\pi]$ and $\\theta \\in [0, 2\\pi]$. The $x, y,$ and $z$ coordinates are then: \n",
    "\n",
    "\\begin{align}\n",
    "x &= \\rho \\sin(\\phi) \\cos(\\theta) \\\\\n",
    "y &= \\rho \\sin(\\phi) \\sin(\\theta) \\\\\n",
    "z &= \\rho \\cos(\\phi)\n",
    "\\end{align}"
   ]
  },
  {
   "cell_type": "markdown",
   "metadata": {},
   "source": [
    "Let do an example with $\\phi = 0$ and $\\theta = 0$. This should correspond to spin-up since we get\n",
    "\n",
    "\\begin{align}\n",
    "x &= 0 \\\\\n",
    "y &= 0 \\\\\n",
    "z &= 1\n",
    "\\end{align}"
   ]
  },
  {
   "cell_type": "code",
   "execution_count": null,
   "metadata": {},
   "outputs": [],
   "source": [
    "x = np.sin(0)*np.cos(0)\n",
    "y = np.sin(0)*np.sin(0)\n",
    "z = np.cos(0)\n",
    "\n",
    "psi1 = np.array([x, y, z])\n",
    "print(\"x=\", x)\n",
    "print(\"y=\", y)\n",
    "print(\"z=\", z)\n",
    "print(\"psi1=\", psi1)"
   ]
  },
  {
   "cell_type": "code",
   "execution_count": null,
   "metadata": {},
   "outputs": [],
   "source": [
    "# Plot psi on the Bloch sphere using Qiskit\n",
    "plot_bloch_vector(psi1, title=\"psi1\")"
   ]
  },
  {
   "cell_type": "markdown",
   "metadata": {},
   "source": [
    "Let's try to use spherical coordinates to create the spin-down state now. "
   ]
  },
  {
   "cell_type": "code",
   "execution_count": null,
   "metadata": {},
   "outputs": [],
   "source": [
    "x = np.sin(0)*np.cos(np.pi)\n",
    "y = np.sin(0)*np.sin(np.pi)\n",
    "z = np.cos(np.pi)\n",
    "\n",
    "psi2 = np.array([x, y, z])\n",
    "print(\"x=\", x)\n",
    "print(\"y=\", y)\n",
    "print(\"z=\", z)\n",
    "print(\"psi2=\", psi2)"
   ]
  },
  {
   "cell_type": "code",
   "execution_count": null,
   "metadata": {},
   "outputs": [],
   "source": [
    "# Plot psi on the Bloch sphere using Qiskit\n",
    "plot_bloch_vector(psi2, title=\"psi2\")"
   ]
  },
  {
   "cell_type": "markdown",
   "metadata": {},
   "source": [
    "Let's define the six basis states in Python and compute some things with them. "
   ]
  },
  {
   "cell_type": "code",
   "execution_count": null,
   "metadata": {},
   "outputs": [],
   "source": [
    "spin_up = np.matrix([[1], \n",
    "                       [0]])\n",
    "\n",
    "spin_down = np.matrix([[0],\n",
    "                     [1]])\n",
    "\n",
    "spin_right = (1/np.sqrt(2))*(spin_up + 1j*spin_down)\n",
    "\n",
    "spin_left = (1/np.sqrt(2))*(spin_up - 1j*spin_down)\n",
    "\n",
    "spin_plus = (1/np.sqrt(2))*(spin_up + spin_down)\n",
    "\n",
    "spin_minus = (1/np.sqrt(2))*(spin_up - spin_down)\n",
    "\n",
    "print('spin up:', spin_up)\n",
    "print('spin down:', spin_down)\n",
    "print('spin right:', spin_right)\n",
    "print('spin left:', spin_left)\n",
    "print('spin plus:', spin_plus)\n",
    "print('spin minus:', spin_minus)"
   ]
  },
  {
   "cell_type": "code",
   "execution_count": null,
   "metadata": {},
   "outputs": [],
   "source": [
    "np.dot(spin_down.H, spin_down)"
   ]
  },
  {
   "cell_type": "code",
   "execution_count": null,
   "metadata": {},
   "outputs": [],
   "source": [
    "np.dot(spin_left.H, spin_right)"
   ]
  },
  {
   "cell_type": "markdown",
   "metadata": {},
   "source": [
    "## Exercises\n",
    "\n",
    "Compute the following inner products. \n",
    "\n",
    "1. $\\langle 0 | 1 \\rangle$\n",
    "2. $\\langle 1 | 0 \\rangle$ \n",
    "3. $\\langle 1 | 1 \\rangle$\n",
    "4. $\\langle r | l \\rangle$\n",
    "5. $\\langle l | r \\rangle$\n",
    "6. $\\langle r | r \\rangle$\n",
    "7. $\\langle l | l \\rangle$\n",
    "8. $\\langle + | - \\rangle$\n",
    "9. $\\langle + | r \\rangle$\n",
    "10. $\\langle - | l \\rangle$\n",
    "11. $\\langle 0 | r \\rangle$\n",
    "12. $\\langle l | 1 \\rangle$\n",
    "13. $\\langle 0 | + \\rangle$\n",
    "14. $\\langle - | - \\rangle$\n",
    "15. $\\langle - | r \\rangle$"
   ]
  },
  {
   "cell_type": "markdown",
   "metadata": {},
   "source": [
    "Plot the following states on the Bloch sphere using Qiskit for the given angles $\\phi$ and $\\theta$. \n",
    "\n",
    "16. $\\phi = \\pi/2$, $\\theta = -\\pi/3$. \n",
    "17. $\\phi = -\\pi/4$, $\\theta = -\\pi/6$. \n",
    "18. $\\phi = -\\pi/2$, $\\theta = \\pi/4$.\n",
    "19. $\\phi = \\pi/3$, $\\theta = -\\pi$. \n",
    "20. $\\phi = -\\pi/6$, $\\theta = -\\pi/4$. "
   ]
  },
  {
   "cell_type": "code",
   "execution_count": null,
   "metadata": {},
   "outputs": [],
   "source": [
    "import numpy as np\n",
    "zero = np.matrix([[1], [0]])\n",
    "one  = np.matrix([[0], [1]])\n",
    "left = np.matrix([[1/np.sqrt(2)], [-1j/np.sqrt(2)]])\n",
    "right = np.matrix([[1/np.sqrt(2)], [1j/np.sqrt(2)]])\n",
    "plus = np.matrix([[1/np.sqrt(2)], [1/np.sqrt(2)]])\n",
    "minus = np.matrix([[1/np.sqrt(2)], [-1/np.sqrt(2)]])"
   ]
  },
  {
   "cell_type": "code",
   "execution_count": null,
   "metadata": {},
   "outputs": [],
   "source": [
    "print('1  ', np.dot(zero.H, one))\n",
    "print('2  ', np.dot(one.H, zero))\n",
    "print('3  ', np.dot(one.H, one))\n",
    "\n",
    "print('4  ', np.dot(right.H, left))\n",
    "print('5  ', np.dot(left.H, right))\n",
    "print('6  ', np.dot(right.H, right))\n",
    "print('7  ', np.dot(left.H, left))\n",
    "\n",
    "print('8  ', np.dot(plus.H, minus))\n",
    "print('9  ', np.dot(plus.H, right))\n",
    "print('10 ', np.dot(minus.H, left))\n",
    "print('11 ', np.dot(zero.H, right))\n",
    "print('12 ', np.dot(left.H, one))\n",
    "print('13 ', np.dot(zero.H, plus))\n",
    "print('14 ', np.dot(minus.H, minus))\n",
    "print('15 ', np.dot(minus.H, right))\n"
   ]
  },
  {
   "cell_type": "code",
   "execution_count": null,
   "metadata": {},
   "outputs": [],
   "source": [
    "def get_coords(psi, theta):\n",
    "\n",
    "    x = np.sin(psi) * np.cos(theta)\n",
    "    y = np.sin(psi) * np.sin(theta)\n",
    "    z = np.cos(psi)\n",
    "    return np.array([x, y, z])"
   ]
  },
  {
   "cell_type": "code",
   "execution_count": null,
   "metadata": {},
   "outputs": [],
   "source": [
    "from qiskit import *\n",
    "from qiskit.visualization import plot_bloch_vector\n",
    "%matplotlib inline"
   ]
  },
  {
   "cell_type": "code",
   "execution_count": null,
   "metadata": {},
   "outputs": [],
   "source": [
    "plot_bloch_vector(get_coords(np.pi/2, -1*np.pi/3))"
   ]
  },
  {
   "cell_type": "code",
   "execution_count": null,
   "metadata": {},
   "outputs": [],
   "source": [
    "plot_bloch_vector(get_coords(-1*np.pi/4, -1*np.pi/6))"
   ]
  },
  {
   "cell_type": "code",
   "execution_count": null,
   "metadata": {},
   "outputs": [],
   "source": [
    "plot_bloch_vector(get_coords(-1*np.pi/2, np.pi/4))"
   ]
  },
  {
   "cell_type": "code",
   "execution_count": null,
   "metadata": {},
   "outputs": [],
   "source": [
    "plot_bloch_vector(get_coords(np.pi/3, -1 * np.pi))"
   ]
  },
  {
   "cell_type": "code",
   "execution_count": null,
   "metadata": {},
   "outputs": [],
   "source": [
    "plot_bloch_vector(get_coords(-1*np.pi/6, -1*np.pi/4))"
   ]
  }
 ],
 "metadata": {
  "kernelspec": {
   "display_name": "Python 3 (ipykernel)",
   "language": "python",
   "name": "python3"
  },
  "language_info": {
   "codemirror_mode": {
    "name": "ipython",
    "version": 3
   },
   "file_extension": ".py",
   "mimetype": "text/x-python",
   "name": "python",
   "nbconvert_exporter": "python",
   "pygments_lexer": "ipython3",
   "version": "3.9.13"
  }
 },
 "nbformat": 4,
 "nbformat_minor": 4
}
