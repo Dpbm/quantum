{
 "cells": [
  {
   "cell_type": "markdown",
   "metadata": {},
   "source": [
    "# Inner Products and Norms of Vectors"
   ]
  },
  {
   "cell_type": "markdown",
   "metadata": {},
   "source": [
    "## Importing NumPy\n",
    "\n",
    "As usual, we will need to import NumPy"
   ]
  },
  {
   "cell_type": "code",
   "execution_count": null,
   "metadata": {},
   "outputs": [],
   "source": [
    "import numpy as np"
   ]
  },
  {
   "cell_type": "markdown",
   "metadata": {},
   "source": [
    "## Introduction\n",
    "\n",
    "The most important vectors we will encounter will be $2$-dimensional complex vector which are of length $1$. In this section we will define the **inner product** of two vectors, and the **norm** (length) of a vector which is derived from the inner product of the vector with itself. The vectors of length $1$ are sometimes referred to as **unit vectors**. We will discuss complex unit vectors in $2$-dimensional space $\\mathbb{C}^2$ and how they relate to qubits. This will lead to a discussion of the **Bloch sphere** which will be a useful way of understanding qubits and how quantum gates act on them. \n",
    "\n",
    "\n",
    "### Inner Products\n",
    "**Inner Products** are a more general case of the **dot-product**, but for most of our purposes, they can be thought of as the same thing. The most basic case of an inner product and the one we will use the most often can be thought of as the product of a row vector and a column vector of the same dimension:\n",
    "\n",
    "\\begin{align} \\langle A| = \\begin{pmatrix}\n",
    "a_1, & a_2, & \\cdots, & a_n\n",
    "\\end{pmatrix}, \\quad \\quad\n",
    "|B\\rangle = \\begin{pmatrix}\n",
    "b_1 \\\\ b_2 \\\\ \\vdots \\\\ b_n\n",
    "\\end{pmatrix} \\end{align}\n",
    "\n",
    "Taking the inner product of $\\langle A|$ and $|B\\rangle$ gives the following:\n",
    "\n",
    "\\begin{align} \\langle A| B \\rangle &= \\begin{pmatrix} \n",
    "a_1, & a_2, & \\cdots, & a_n\n",
    "\\end{pmatrix}\n",
    "\\begin{pmatrix}\n",
    "b_1 \\\\ b_2 \\\\ \\vdots \\\\ b_n\n",
    "\\end{pmatrix}\\\\\n",
    "&= \n",
    "a_1b_1 + a_2b_2 + \\cdots + a_nb_n\\\\\n",
    "&= \\sum_{i=1}^n a_ib_i\n",
    "\\end{align}"
   ]
  },
  {
   "cell_type": "markdown",
   "metadata": {},
   "source": [
    "As a basic example, take the inner product of the following $2$-dimensional vectors, \n",
    "\n",
    "\n",
    "\\begin{align} \\langle A| = \\begin{pmatrix}\n",
    "3i, & 2\n",
    "\\end{pmatrix}, \\quad \\quad |B\\rangle = \\begin{pmatrix}\n",
    "5+2i \\\\ 1-i\n",
    "\\end{pmatrix} \\end{align}\n",
    "\n",
    "as follows:\n",
    "\n",
    "\\begin{align}\n",
    "\\langle A| B \\rangle = \\begin{pmatrix}\n",
    "3i, & 2\n",
    "\\end{pmatrix}\n",
    "\\begin{pmatrix}\n",
    "5+2i \\\\ 1-i\n",
    "\\end{pmatrix} &= \n",
    "3i(5+2i) + 2(1-i)\\\\ \n",
    "&= 15i-6+2-2i\\\\ \n",
    "&= -4+13i\n",
    "\\end{align}"
   ]
  },
  {
   "cell_type": "markdown",
   "metadata": {},
   "source": [
    "In order to define a complex vector so that we can take its conjugate transpose, also called the **Hermitian conjugate**, we must define it as a **matrix**. So, suppose we have the following column vector (ket-vector):\n",
    "\n",
    "\\begin{align}\n",
    "|A\\rangle = \\begin{pmatrix} 1-i \\\\ 3 \\\\ 2i \\\\ 5+i \\end{pmatrix}\n",
    "\\end{align}\n",
    "\n",
    "Then of course its **Hermitian conjugate** would be the bra-vector\n",
    "\n",
    "\\begin{align}\n",
    "\\langle A| = \\begin{pmatrix}1+i, & 3, & -2i, & 5-i \\end{pmatrix}\n",
    "\\end{align}\n",
    "\n",
    "Now, in Python, we must remember to use \"$j$\" instead of $\"i\"$ for the imaginary unit and we must define the $4 \\times 1$-matrix:"
   ]
  },
  {
   "cell_type": "code",
   "execution_count": null,
   "metadata": {},
   "outputs": [],
   "source": [
    "# Define the 4x1 matrix version of a column vector (instead of using the np.array() version):\n",
    "A = np.matrix([[1-1j], \n",
    "               [3], \n",
    "               [2j], \n",
    "               [5+1j]])\n",
    "\n",
    "# Compute the Hermitian Conjugate:\n",
    "A.H"
   ]
  },
  {
   "cell_type": "markdown",
   "metadata": {},
   "source": [
    "Now, to compute the inner product $ \\langle A|A \\rangle $ we can simple multiply the two matrix versions just computed:"
   ]
  },
  {
   "cell_type": "code",
   "execution_count": null,
   "metadata": {},
   "outputs": [],
   "source": [
    "np.dot(A.H, A)"
   ]
  },
  {
   "cell_type": "markdown",
   "metadata": {},
   "source": [
    "Let's define another $4$-dimensional complex row vector $\\langle B|$:\n",
    "\n",
    "\\begin{align}\n",
    "\\langle B| = \\begin{pmatrix}\n",
    "-3i, & 2+2i, & -6i, & -7\n",
    "\\end{pmatrix}\n",
    "\\end{align}\n",
    "\n",
    "Once we have defined this bra-vector, let's compute the following inner products:\n",
    "\n",
    "\\begin{align}\n",
    "\\langle B|A \\rangle, \\quad \\langle B|B \\rangle, \\quad \\langle A|B \\rangle.\n",
    "\\end{align}"
   ]
  },
  {
   "cell_type": "code",
   "execution_count": null,
   "metadata": {},
   "outputs": [],
   "source": [
    "# Define B as a 1x4 matrix\n",
    "B = np.matrix([[-3j, 2+2j, -6j, -7]])\n",
    "\n",
    "#Compute the Hermitian Conjugate of B, which is a ket-vector\n",
    "B.H"
   ]
  },
  {
   "cell_type": "code",
   "execution_count": null,
   "metadata": {},
   "outputs": [],
   "source": [
    "# Compute <B|A>\n",
    "np.dot(B,A)"
   ]
  },
  {
   "cell_type": "code",
   "execution_count": null,
   "metadata": {},
   "outputs": [],
   "source": [
    "# Compute <B|B>\n",
    "np.dot(B, B.H)"
   ]
  },
  {
   "cell_type": "code",
   "execution_count": null,
   "metadata": {},
   "outputs": [],
   "source": [
    "# Compute <A|B>\n",
    "np.dot(A.H, B.H)"
   ]
  },
  {
   "cell_type": "markdown",
   "metadata": {},
   "source": [
    "There is a different kind of product on two vectors which we will cover later called the **[outer product](https://en.wikipedia.org/wiki/Outer_product)**. The outer product is a specific case of the tensor product and is written in this case by $ |A\\rangle \\langle A|$. It is important to make this distinction now and note that the two **are not the same**. The **inner product** always yields a number, which can be complex valued if the two vectors are complex valued. The **outer product** in general gives a **matrix**. "
   ]
  },
  {
   "cell_type": "code",
   "execution_count": null,
   "metadata": {},
   "outputs": [],
   "source": [
    "np.dot(A, A.H)"
   ]
  },
  {
   "cell_type": "markdown",
   "metadata": {},
   "source": [
    "For the more adventurous readers who understand how to multiply matrices, and to prepare for future computations where matrices are involved, we will compute a more general \"inner product\". If this does not make any sense to you and matrix multiplication is a foreign concept, we will discuss matrix multiplication in this chapter as a refresher, but now might be a good time to refresh your memory on how to multiply matrices if it is unfamiliar. When we discuss \\emph{measurements} and \\emph{expectation values} we will need to consider the case when there is a matrix in between the bra- and ket-vector. Take for example the Pauli-Z matrix, which we will discuss more later on:\n",
    "\n",
    "\n",
    "\\begin{align} Z = \\begin{pmatrix}\n",
    "1 & 0 \\\\\n",
    "0 & -1\n",
    "\\end{pmatrix} \\end{align}\n",
    "\n",
    "Now take the following bra-vector and ket-vector\n",
    "\n",
    "\n",
    "\\begin{align} \\langle A| = \\begin{pmatrix}\n",
    "i/\\sqrt{2}, & -i/\\sqrt{2}\n",
    "\\end{pmatrix}, \\quad \\quad |A\\rangle = \\begin{pmatrix}\n",
    "-i/\\sqrt{2} \\\\ i/\\sqrt{2}\n",
    "\\end{pmatrix} \\end{align}"
   ]
  },
  {
   "cell_type": "markdown",
   "metadata": {},
   "source": [
    "Now, we can compute the following variation on the inner product\n",
    "\n",
    "\\begin{align}\n",
    "\\langle A| Z |A \\rangle &= \n",
    "\\begin{pmatrix}\n",
    "i/\\sqrt{2}, & -i/\\sqrt{2}\n",
    "\\end{pmatrix}\n",
    "\\begin{pmatrix}\n",
    "1 & 0 \\\\\n",
    "0 & -1\n",
    "\\end{pmatrix}\n",
    "\\begin{pmatrix}\n",
    "-i/\\sqrt{2} \\\\ i/\\sqrt{2}\n",
    "\\end{pmatrix} \\\\\n",
    "&= \\begin{pmatrix}\n",
    "i/\\sqrt{2}, & -i/\\sqrt{2}\n",
    "\\end{pmatrix}\n",
    "\\begin{pmatrix}\n",
    "-i/\\sqrt{2} \\\\ -i/\\sqrt{2}\n",
    "\\end{pmatrix} \\\\\n",
    "&= 1/2 - 1/2 \\\\\n",
    "&= 0\n",
    "\\end{align}\n",
    "\n",
    "We will encounter such calculations many more times when we discuss measurements and expectations. If this is a little confusing, it is not important to worry too much about it just yet. We will cover matrix multiplication shortly, and later we will discuss measurements and expectation values, at which point we should be comfortable computing more general version of this strange \"inner product\". "
   ]
  },
  {
   "cell_type": "markdown",
   "metadata": {},
   "source": [
    "## Exercises\n",
    "\n",
    "1. Compute the  following inner product by hand:\n",
    "    \n",
    "    $\\begin{pmatrix}\n",
    "    2, & 3i\n",
    "    \\end{pmatrix}\n",
    "    \\begin{pmatrix}\n",
    "    1+i \\\\ 4\n",
    "    \\end{pmatrix}$ \n",
    "    \n",
    "2. Write Python code to compute the previous inner product.\n",
    "3. Compute the following inner product by hand:\n",
    "\n",
    "    $ \\begin{pmatrix}\n",
    "    3i, & 1+2i, & 4, & 2i\n",
    "    \\end{pmatrix}\n",
    "    \\begin{pmatrix}\n",
    "    5 \\\\ 1-2i \\\\ -3 \\\\ -i/2\n",
    "    \\end{pmatrix} $\n",
    "    \n",
    "5. Write Python code to compute the previous inner product. \n",
    "6. For the more adventurous who understand how to multiply matrices, and to prepare for future computations where matrices are involved, compute the following more general \"inner product\":\n",
    "\n",
    "\\begin{align}\n",
    "\\begin{pmatrix}1/\\sqrt{2}, & -1/\\sqrt{2} \\end{pmatrix}\n",
    "\\begin{pmatrix} 1&0\\\\0&-1 \\end{pmatrix}\n",
    "\\begin{pmatrix}1/\\sqrt{2}\\\\ -1/\\sqrt{2} \\end{pmatrix}\n",
    "\\end{align}"
   ]
  },
  {
   "cell_type": "raw",
   "metadata": {},
   "source": [
    "2(1+i) + 3i(4)\n",
    "2+2i + 12i\n",
    "2 + 14i"
   ]
  },
  {
   "cell_type": "code",
   "execution_count": null,
   "metadata": {},
   "outputs": [],
   "source": [
    "bra_a = np.array([2, 3j])\n",
    "ket_b = np.array([[1+1j], [4]])\n",
    "np.dot(bra_a, ket_b)"
   ]
  },
  {
   "cell_type": "raw",
   "metadata": {},
   "source": [
    "3i(5) + (1+2i)(1-2i) -12 + (2i)(-i/2)\n",
    "15i + 1 - 2i + 2i - 4i^2 - 12 + -2i^2/2\n",
    "15i + 1 + 4 - 12 + 1\n",
    "-6 + 15i"
   ]
  },
  {
   "cell_type": "code",
   "execution_count": null,
   "metadata": {},
   "outputs": [],
   "source": [
    "bra_a = np.array([3j, 1+2j, 4, 2j])\n",
    "ket_b = np.array([[5], [1-2j], [-3], [-1j/2]])\n",
    "np.dot(bra_a, ket_b)"
   ]
  },
  {
   "cell_type": "code",
   "execution_count": null,
   "metadata": {},
   "outputs": [],
   "source": [
    "matrix = np.matrix([[1, 0], [0, -1]])\n",
    "ket_a = np.array([[1/np.sqrt(2)], [-1/np.sqrt(2)]])\n",
    "matrix_x_ket_a = np.dot(matrix, ket_a)\n",
    "\n",
    "print(matrix_x_ket_a)\n",
    "\n",
    "bra_b = np.array([1/np.sqrt(2), -1/np.sqrt(2)])\n",
    "np.dot(bra_b, matrix_x_ket_a)"
   ]
  }
 ],
 "metadata": {
  "kernelspec": {
   "display_name": "Python 3 (ipykernel)",
   "language": "python",
   "name": "python3"
  },
  "language_info": {
   "codemirror_mode": {
    "name": "ipython",
    "version": 3
   },
   "file_extension": ".py",
   "mimetype": "text/x-python",
   "name": "python",
   "nbconvert_exporter": "python",
   "pygments_lexer": "ipython3",
   "version": "3.9.13"
  }
 },
 "nbformat": 4,
 "nbformat_minor": 4
}
