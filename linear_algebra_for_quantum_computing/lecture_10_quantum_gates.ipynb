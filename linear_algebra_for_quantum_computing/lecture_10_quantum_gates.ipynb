{
 "cells": [
  {
   "cell_type": "markdown",
   "metadata": {},
   "source": [
    "# Quantum Logic Gates"
   ]
  },
  {
   "cell_type": "markdown",
   "metadata": {},
   "source": [
    "We will need to import NumPy. We will also visualize some of the gate operations in Qiskit by plotting the state vectors on the Bloch sphere so we should also install and import the necessary tools from Qiskit. "
   ]
  },
  {
   "cell_type": "code",
   "execution_count": null,
   "metadata": {},
   "outputs": [],
   "source": [
    "pip install qiskit"
   ]
  },
  {
   "cell_type": "code",
   "execution_count": null,
   "metadata": {},
   "outputs": [],
   "source": [
    "import numpy as np\n",
    "from qiskit import *\n",
    "from qiskit.visualization import plot_bloch_vector\n",
    "%matplotlib inline"
   ]
  },
  {
   "cell_type": "markdown",
   "metadata": {},
   "source": [
    "In this section we will discuss a list of the most commonly used [quantum logic gates](https://en.wikipedia.org/wiki/Quantum_logic_gate#Square_root_of_NOT_gate_(%E2%88%9ANOT)) in quantum computing. This will include the Pauli operators, the Hadamard gate, phase gates, controlled-U gates for various unitary operators, swap operators, and the Toffoli gate. \n",
    "\n",
    "> \"In quantum computing and specifically the quantum circuit model of computation, a quantum logic gate (or simply quantum gate) is a basic quantum circuit operating on a small number of qubits. They are the building blocks of quantum circuits, like classical logic gates are for conventional digital circuits.\"\n",
    "\n",
    "> \"Unlike many classical logic gates, quantum logic gates are reversible. However, it is possible to perform classical computing using only reversible gates. For example, the reversible Toffoli gate can implement all Boolean functions, often at the cost of having to use ancilla bits. The Toffoli gate has a direct quantum equivalent, showing that quantum circuits can perform all operations performed by classical circuits.\""
   ]
  },
  {
   "cell_type": "markdown",
   "metadata": {},
   "source": [
    "## The Pauli X, Y, and Z gates:\n",
    "\n",
    "\\begin{align}\n",
    "X = \\begin{pmatrix} 0&1 \\\\ 1&0 \\end{pmatrix}, \\quad\n",
    "Y = \\begin{pmatrix} 0&i \\\\ -i&0 \\end{pmatrix}, \\quad\n",
    "Z = \\begin{pmatrix} 1&0 \\\\ 0&-1 \\end{pmatrix}, \\quad\n",
    "\\end{align}\n",
    "\n",
    "These can also be represented as *outer products*:\n",
    "\n",
    "\\begin{align}\n",
    "X = |0\\rangle \\langle 1| + |1\\rangle \\langle 0| &= \\begin{pmatrix} 0&1 \\\\ 1&0 \\end{pmatrix} \\\\\n",
    "Y = -i|0\\rangle \\langle 1| + i|1\\rangle \\langle 0| &= \\begin{pmatrix} 0&i \\\\ -i&0 \\end{pmatrix} \\\\ \n",
    "Z = |0\\rangle \\langle 0| - |1\\rangle \\langle 1| &= \\begin{pmatrix} 1&0 \\\\ 0&-1 \\end{pmatrix}. \n",
    "\\end{align}\n",
    "\n",
    "Sometimes in books, papers, and online sources such as in the documentation for PennyLane, these are denoted by $\\sigma_X, \\sigma_Y, \\sigma_Z$. We can operate on single qubits with the Pauli gates as follows. "
   ]
  },
  {
   "cell_type": "code",
   "execution_count": null,
   "metadata": {},
   "outputs": [],
   "source": [
    "# Define spin-up and spin down\n",
    "u = np.matrix([[1],\n",
    "               [0]])\n",
    "\n",
    "d = np.matrix([[0],\n",
    "               [1]])\n",
    "\n",
    "X = np.matrix([[0, 1],\n",
    "               [1, 0]])\n",
    "\n",
    "Y = np.matrix([[0, -1j], \n",
    "               [1j, 0]])\n",
    "\n",
    "Z = np.matrix([[1, 0],\n",
    "               [0, -1]])"
   ]
  },
  {
   "cell_type": "markdown",
   "metadata": {},
   "source": [
    "Now, let's compute $X|0\\rangle$ and $X|1\\rangle$. "
   ]
  },
  {
   "cell_type": "code",
   "execution_count": null,
   "metadata": {},
   "outputs": [],
   "source": [
    "X*u"
   ]
  },
  {
   "cell_type": "code",
   "execution_count": null,
   "metadata": {},
   "outputs": [],
   "source": [
    "X*d"
   ]
  },
  {
   "cell_type": "markdown",
   "metadata": {},
   "source": [
    "As we can see, $X|0\\rangle = |1\\rangle$ and $X|1\\rangle = |0\\rangle$. So, the Pauli $X$-gate flips a single qubit in spin-up to spin down, and from spin-down to spin up. This is why the $X$-gate is often referred to as the NOT-gate. We can visualize this in Qiskit as follows. "
   ]
  },
  {
   "cell_type": "code",
   "execution_count": null,
   "metadata": {},
   "outputs": [],
   "source": [
    "plot_bloch_vector([0,0,1], title=\"Spin-Up\")"
   ]
  },
  {
   "cell_type": "code",
   "execution_count": null,
   "metadata": {},
   "outputs": [],
   "source": [
    "plot_bloch_vector([0,0,-1], title=\"Spin-Down\")"
   ]
  },
  {
   "cell_type": "markdown",
   "metadata": {},
   "source": [
    "Let's compute $Y|0\\rangle$ and $Z|0\\rangle$. "
   ]
  },
  {
   "cell_type": "code",
   "execution_count": null,
   "metadata": {},
   "outputs": [],
   "source": [
    "Y*u"
   ]
  },
  {
   "cell_type": "code",
   "execution_count": null,
   "metadata": {},
   "outputs": [],
   "source": [
    "Z*u"
   ]
  },
  {
   "cell_type": "markdown",
   "metadata": {},
   "source": [
    "## The Identity Operator and the Hadamard Gate:\n",
    "\n",
    "\\begin{align}\n",
    "I = \\begin{pmatrix} 1&0 \\\\ 0&1 \\end{pmatrix}, \\quad\n",
    "\\text{Hadamard Gate:} \\ \\ H = \\frac{1}{\\sqrt{2}} \\begin{pmatrix} 1&1 \\\\ 1&-1 \\end{pmatrix}\n",
    "\\end{align}"
   ]
  },
  {
   "cell_type": "markdown",
   "metadata": {},
   "source": [
    "The Hadamard gate is often used to put a single qubit in the spin-up position into a **superposition** of spin-up and spin-down. "
   ]
  },
  {
   "cell_type": "code",
   "execution_count": null,
   "metadata": {},
   "outputs": [],
   "source": [
    "H = (1/np.sqrt(2))*np.matrix([[1, 1], \n",
    "                              [1, -1]])"
   ]
  },
  {
   "cell_type": "code",
   "execution_count": null,
   "metadata": {},
   "outputs": [],
   "source": [
    "H*u"
   ]
  },
  {
   "cell_type": "markdown",
   "metadata": {},
   "source": [
    "## The Phase Gate\n",
    "\n",
    "\\begin{align}\n",
    "S = \n",
    "\\begin{pmatrix}\n",
    "1 & 0 \\\\\n",
    "0 & i\n",
    "\\end{pmatrix}\n",
    "\\end{align}"
   ]
  },
  {
   "cell_type": "markdown",
   "metadata": {},
   "source": [
    "## Controlled-NOT (CNOT or CX)\n",
    "\n",
    "\n",
    "\\begin{align}\n",
    "CX &= \\begin{pmatrix} I & 0 \\\\ 0 & X \\end{pmatrix} = \n",
    "\\begin{pmatrix} \n",
    "1 & 0 & 0 & 0 \\\\\n",
    "0 & 1 & 0 & 0 \\\\\n",
    "0 & 0 & 0 & 1 \\\\\n",
    "0 & 0 & 1 & 0\n",
    "\\end{pmatrix}\n",
    "\\end{align}"
   ]
  },
  {
   "cell_type": "markdown",
   "metadata": {},
   "source": [
    "## Controlled-Z (CZ)\n",
    "\n",
    "\\begin{align}\n",
    "CZ &= \\begin{pmatrix} I & 0 \\\\ 0 & Z \\end{pmatrix} = \n",
    "\\begin{pmatrix} \n",
    "1 & 0 & 0 & 0 \\\\\n",
    "0 & 1 & 0 & 0 \\\\\n",
    "0 & 0 & 1 & 0 \\\\\n",
    "0 & 0 & 0 & -1\n",
    "\\end{pmatrix}\n",
    "\\end{align}"
   ]
  },
  {
   "cell_type": "markdown",
   "metadata": {},
   "source": [
    "## Controlled-U (CU)\n",
    "\n",
    "Let $U = \\begin{pmatrix} u_{11} & u_{12} \\\\ u_{21} & u_{22} \\end{pmatrix}$ be any unitary matrix operator. Then we have the following gates:\n",
    "\n",
    "\\begin{align}\n",
    "CU &= \\begin{pmatrix} I & 0 \\\\ 0 & U \\end{pmatrix} = \n",
    "\\begin{pmatrix} \n",
    "1 & 0 & 0 & 0 \\\\\n",
    "0 & 1 & 0 & 0 \\\\\n",
    "0 & 0 & u_{11} & u_{12} \\\\\n",
    "0 & 0 & u_{21} & u_{22}\n",
    "\\end{pmatrix}\n",
    "\\end{align}"
   ]
  },
  {
   "cell_type": "markdown",
   "metadata": {},
   "source": [
    "## Swap\n",
    "\n",
    "\\begin{align}\n",
    "\\mathbf{SWAP} = \\begin{pmatrix}\n",
    "1 & 0 & 0 & 0 \\\\\n",
    "0 & 0 & 1 & 0 \\\\\n",
    "0 & 1 & 0 & 0 \\\\\n",
    "0 & 0 & 0 & 1 \n",
    "\\end{pmatrix}\n",
    "\\end{align}"
   ]
  },
  {
   "cell_type": "markdown",
   "metadata": {},
   "source": [
    "## Toffoli Gate\n",
    "\n",
    "\\begin{align}\n",
    "\\mathbf{CCX}\n",
    "= \\begin{pmatrix}\n",
    "1 & 0 & 0 & 0 & 0 & 0 & 0 & 0 \\\\\n",
    "0 & 1 & 0 & 0 & 0 & 0 & 0 & 0 \\\\\n",
    "0 & 0 & 1 & 0 & 0 & 0 & 0 & 0 \\\\\n",
    "0 & 0 & 0 & 1 & 0 & 0 & 0 & 0 \\\\\n",
    "0 & 0 & 0 & 0 & 1 & 0 & 0 & 0 \\\\\n",
    "0 & 0 & 0 & 0 & 0 & 1 & 0 & 0 \\\\\n",
    "0 & 0 & 0 & 0 & 0 & 0 & 0 & 1 \\\\\n",
    "0 & 0 & 0 & 0 & 0 & 0 & 1 & 0 \n",
    "\\end{pmatrix}\n",
    "\\end{align}"
   ]
  },
  {
   "cell_type": "markdown",
   "metadata": {},
   "source": [
    "## Exercises\n",
    "\n",
    "Compute the following tensor products by hand:\n",
    "\n",
    "1. $CX \\otimes H$\n",
    "2. $H \\otimes CZ$\n",
    "3. $H \\otimes S$\n",
    "\n",
    "Write Python code to compute the tensor products:\n",
    "\n",
    "4. $CX \\otimes H$\n",
    "5. $H \\otimes CZ$\n",
    "6. $H \\otimes S$\n",
    "\n",
    "Write Python code to compute the basis states as column matrices:\n",
    "\n",
    "7. $|00 \\rangle$\n",
    "8. $|01 \\rangle$\n",
    "9. $|10 \\rangle$\n",
    "10. $|11 \\rangle$\n",
    "\n",
    "Compute the following using Python code:\n",
    "\n",
    "11. $(CX \\otimes H)|00 \\rangle$\n",
    "12. $(CX \\otimes H)|10 \\rangle$\n",
    "13. $(H \\otimes CZ)|11 \\rangle$\n",
    "14. $(H \\otimes CZ)|01 \\rangle$\n",
    "15. $(H \\otimes S)|01 \\rangle$\n",
    "\n",
    "Write Python code for the column matrix basis states:\n",
    "\n",
    "16. $|001 \\rangle$\n",
    "17. $|101 \\rangle$\n",
    "\n",
    "Write Python code to compute:\n",
    "\n",
    "17. $CCX|001 \\rangle$\n",
    "18. $CCX|101 \\rangle$"
   ]
  }
 ],
 "metadata": {
  "kernelspec": {
   "display_name": "Python 3 (ipykernel)",
   "language": "python",
   "name": "python3"
  },
  "language_info": {
   "codemirror_mode": {
    "name": "ipython",
    "version": 3
   },
   "file_extension": ".py",
   "mimetype": "text/x-python",
   "name": "python",
   "nbconvert_exporter": "python",
   "pygments_lexer": "ipython3",
   "version": "3.9.13"
  }
 },
 "nbformat": 4,
 "nbformat_minor": 4
}
