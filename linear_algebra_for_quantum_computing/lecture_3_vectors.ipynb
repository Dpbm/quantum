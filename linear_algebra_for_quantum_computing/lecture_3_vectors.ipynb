{
 "cells": [
  {
   "cell_type": "markdown",
   "metadata": {},
   "source": [
    "# Vectors "
   ]
  },
  {
   "cell_type": "markdown",
   "metadata": {},
   "source": [
    "## Introduction\n",
    "\n",
    "Vectors will be fundamental in our study of quantum computing. The most basic unit of computation in a quantum computer is a \\emph{qubit}, which can be represented as a $2$-dimensional complex vector of length one. So understanding vectors will be foundational and necessary for most of what we will be doing in this book. Vectors can be thought of in many ways, one of the most basic is simply as an array of numbers, which we will often represent as a column of numbers called **column vectors**, but in some cases we will also need **row vectors**:\n",
    "\n",
    "\n",
    "\\begin{align} \\text{Column Vector:} \\ \\begin{pmatrix}\n",
    "a_1 \\\\ a_2 \\\\ \\vdots \\\\ a_n\n",
    "\\end{pmatrix}, \\quad \\quad \\text{Row Vector:} \\ \\begin{pmatrix}\n",
    "a_1, & a_2, & \\cdots, & a_n\n",
    "\\end{pmatrix} \\end{align}"
   ]
  },
  {
   "cell_type": "markdown",
   "metadata": {},
   "source": [
    "## Importing NumPy\n",
    "\n",
    "For linear algebra, we need to make sure to import NumPy. "
   ]
  },
  {
   "cell_type": "code",
   "execution_count": null,
   "metadata": {},
   "outputs": [],
   "source": [
    "import numpy as np"
   ]
  },
  {
   "cell_type": "markdown",
   "metadata": {},
   "source": [
    "## Row Vectors, Column Vectors, and Bra-Ket Notation"
   ]
  },
  {
   "cell_type": "markdown",
   "metadata": {},
   "source": [
    "We can create a column vector and a row vector in Python:"
   ]
  },
  {
   "cell_type": "code",
   "execution_count": null,
   "metadata": {},
   "outputs": [],
   "source": [
    "# Create a vector as a row\n",
    "row_vector = np.array([2-1j, 7j, -3])\n",
    "\n",
    "# Create a vector as a column\n",
    "column_vector = np.array([[2+1j],\n",
    "                          [-5],\n",
    "                          [2j]])"
   ]
  },
  {
   "cell_type": "markdown",
   "metadata": {},
   "source": [
    "Row vectors in quantum mechanics are also called **bra-vectors**, and are denoted as follows:\n",
    "\n",
    "\\begin{align} \\langle A| = \\begin{pmatrix}\n",
    "a_1, & a_2, \\cdots, & a_n\n",
    "\\end{pmatrix} \\end{align}\n",
    "\n",
    "Column vectors are also called **ket-vectors** in quantum mechanics denoted as follows:\n",
    "\n",
    "\\begin{align} |B\\rangle = \\begin{pmatrix}\n",
    "b_1 \\\\ b_2 \\\\ \\vdots \\\\ b_n\n",
    "\\end{pmatrix} \\end{align}\n",
    "\n",
    "In general, if we have a column vector, i.e. a ket-vector:\n",
    "\n",
    "\\begin{align} |A\\rangle = \\begin{pmatrix}\n",
    "a_1 \\\\ a_2 \\\\ \\vdots \\\\ a_n\n",
    "\\end{pmatrix} \\end{align}\n",
    "\n",
    "the corresponding bra-vector:\n",
    "\n",
    "\\begin{align} \\langle A| = \\begin{pmatrix}\n",
    "a_1^*, & a_2^*, & \\cdots, & a_n^*\n",
    "\\end{pmatrix} \\end{align}\n",
    "\n",
    "is the **complex-conjugate transpose** of the ket-vector $|A\\rangle$, and vice-versa. As an example, if we have the following ket-vector:\n",
    "\n",
    "\n",
    "\\begin{align} |A\\rangle = \\begin{pmatrix}\n",
    "2+i \\\\ 1-3i\n",
    "\\end{pmatrix} \\end{align}\n",
    "\n",
    "then the corresponding bra-vector is:\n",
    "\n",
    "\\begin{align} \\langle A| = \\begin{pmatrix}\n",
    "2-i, & 1+3i\n",
    "\\end{pmatrix} \\end{align}\n",
    "\n",
    "The notation $\\langle A|$ and $|A\\rangle$, for bra- and ket-vectors respectively, is a reference to \\emph{inner products} denoted by brackets and we will discuss it more in the next section when we define inner product. As another example, we might want to have a pair of $2$-dimensional complex column vectors (meaning the entries are complex numbers):\\\\\n",
    "\n",
    "\n",
    "\\begin{align} |A \\rangle = \\begin{pmatrix}\n",
    "2-i \\\\ 5\n",
    "\\end{pmatrix}, \\quad \\quad\n",
    "|B \\rangle = \\begin{pmatrix}\n",
    "7 \\\\ 3i\n",
    "\\end{pmatrix} \\end{align}\n",
    "\n",
    "Remember, $i^2 = -1$ and so $i = \\sqrt{-1}$ is imaginary and complex numbers are always of the form $a + bi$. The corresponding bra-vectors would then be:\n",
    "\n",
    "\\begin{align} \\langle A| = \\begin{pmatrix}\n",
    "2+i, & 5\n",
    "\\end{pmatrix}, \\quad \\quad \\langle B| = \\begin{pmatrix}\n",
    "7, & -3i\n",
    "\\end{pmatrix} \\end{align}\n",
    "\n",
    "The $2$-dimensional vectors we have listed above are not quite the kind of vectors we will be using most often in quantum computing, but until we introduce the norm of a vector and explain what unit vectors are, let us focus on the basic operations we can perform on these vectors. We can always add two vector of the same dimension:\n",
    "\n",
    "\\begin{align} |A\\rangle + |B\\rangle = \\begin{pmatrix}\n",
    "2-i \\\\ 5\n",
    "\\end{pmatrix} + \\begin{pmatrix}\n",
    "7 \\\\ 3i\n",
    "\\end{pmatrix} = \n",
    "\\begin{pmatrix}\n",
    "(2-i) + 7 \\\\ 5 + 3i\n",
    "\\end{pmatrix} = \n",
    "\\begin{pmatrix}\n",
    "9-i \\\\ 5 + 3i\n",
    "\\end{pmatrix} \\end{align}\n",
    "\n",
    "In Python this can be done as follows:"
   ]
  },
  {
   "cell_type": "code",
   "execution_count": null,
   "metadata": {},
   "outputs": [],
   "source": [
    "ket_A = np.array([[2-1j],\n",
    "                  [5]])\n",
    "ket_B = np.array([[7], \n",
    "                  [-3j]])\n",
    "print(ket_A + ket_B)"
   ]
  },
  {
   "cell_type": "markdown",
   "metadata": {},
   "source": [
    "We can multiply bra-vectors and ket-vectors by scalars:\n",
    "\n",
    "$ 3|A\\rangle = 3 \\begin{pmatrix} 2-i\\\\5 \\end{pmatrix} = \\begin{pmatrix} 6-3i\\\\15 \\end{pmatrix} $"
   ]
  },
  {
   "cell_type": "code",
   "execution_count": null,
   "metadata": {},
   "outputs": [],
   "source": [
    "print(3*ket_A)"
   ]
  },
  {
   "cell_type": "markdown",
   "metadata": {},
   "source": [
    "Similarly for row vectors (bra-vectors):\n",
    "\n",
    "$ 5\\langle B| = 5 \\begin{pmatrix} 7, & 3i \\end{pmatrix}  = \\begin{pmatrix} 35, & 15i \\end{pmatrix}$"
   ]
  },
  {
   "cell_type": "code",
   "execution_count": null,
   "metadata": {},
   "outputs": [],
   "source": [
    "bra_B = np.array([[7, 3j]])\n",
    "print(5*bra_B)"
   ]
  },
  {
   "cell_type": "markdown",
   "metadata": {},
   "source": [
    "## Exercises\n",
    "\n",
    "1. Define the following ket-vector as an array in Python:\n",
    "\n",
    "\\begin{align}\n",
    "|\\psi \\rangle = \\begin{pmatrix} 2, & 3i \\end{pmatrix}\n",
    "\\end{align}\n",
    "\n",
    "2. Define $|\\psi \\rangle$ from the previous problem as a (column) matrix and compute its Hermitian conjugate. \n",
    "3. Define two ket vectors (column vectors) in Python:\n",
    "\n",
    "\\begin{align}\n",
    "|A\\rangle = \\begin{pmatrix}\n",
    "2 \\\\ 5-5j\n",
    "\\end{pmatrix}, \\quad\n",
    "|B\\rangle = \\begin{pmatrix}\n",
    "2+3j \\\\ -3j\n",
    "\\end{pmatrix}\n",
    "\\end{align}\n",
    "\n",
    "4. Compute $|A\\rangle + |B\\rangle$\n",
    "5. Compute $3|A\\rangle$. "
   ]
  },
  {
   "cell_type": "code",
   "execution_count": null,
   "metadata": {},
   "outputs": [],
   "source": [
    "ket_a = np.array([ 2, 3j ])"
   ]
  },
  {
   "cell_type": "code",
   "execution_count": null,
   "metadata": {},
   "outputs": [],
   "source": [
    "ket_a = np.array([ [2], [3j] ])\n",
    "np.conj(ket_a)"
   ]
  },
  {
   "cell_type": "code",
   "execution_count": null,
   "metadata": {},
   "outputs": [],
   "source": [
    "ket_a = np.array([ [2], [5-5j] ])\n",
    "ket_b = np.array([ [2+3j], [-3j] ])"
   ]
  },
  {
   "cell_type": "code",
   "execution_count": null,
   "metadata": {},
   "outputs": [],
   "source": [
    "ket_a + ket_b"
   ]
  },
  {
   "cell_type": "code",
   "execution_count": null,
   "metadata": {},
   "outputs": [],
   "source": [
    "3 * ket_a"
   ]
  }
 ],
 "metadata": {
  "kernelspec": {
   "display_name": "Python 3 (ipykernel)",
   "language": "python",
   "name": "python3"
  },
  "language_info": {
   "codemirror_mode": {
    "name": "ipython",
    "version": 3
   },
   "file_extension": ".py",
   "mimetype": "text/x-python",
   "name": "python",
   "nbconvert_exporter": "python",
   "pygments_lexer": "ipython3",
   "version": "3.9.13"
  }
 },
 "nbformat": 4,
 "nbformat_minor": 4
}
