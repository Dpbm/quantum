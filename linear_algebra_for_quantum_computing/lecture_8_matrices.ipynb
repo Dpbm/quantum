{
 "cells": [
  {
   "cell_type": "markdown",
   "metadata": {},
   "source": [
    "# Matrices"
   ]
  },
  {
   "cell_type": "markdown",
   "metadata": {},
   "source": [
    "## Imports and Dependencies\n",
    "\n",
    "We will primarily be using NumPy in this section. "
   ]
  },
  {
   "cell_type": "code",
   "execution_count": 1,
   "metadata": {},
   "outputs": [],
   "source": [
    "import numpy as np"
   ]
  },
  {
   "cell_type": "markdown",
   "metadata": {},
   "source": [
    "Matrices form the foundation for quantum gates, which are just operations on qubits that move the points representing states around the Bloch sphere. Matrices are also called operators or quantum gates in the context of quantum computing. They can operate on a single qubit, or on many qubits simultaneously. The matrix operators (or gates) we will be using most are known as *unitary operators* or *unitary matrices*. In this section we will discuss basic matrix algebra and define unitary matrices. "
   ]
  },
  {
   "cell_type": "markdown",
   "metadata": {},
   "source": [
    "We have already seen two ways of realizing matrices in Python. Suppose we have the following $2 \\times 2$ matrix\n",
    "\n",
    "\\begin{align}\n",
    "M = \\begin{pmatrix}\n",
    "2-i & -3 \\\\\n",
    "-5i & 2\n",
    "\\end{pmatrix}\n",
    "\\end{align}\n",
    "\n",
    "We can define this matrix as a NumPy array, or as a matrix in Python."
   ]
  },
  {
   "cell_type": "code",
   "execution_count": null,
   "metadata": {},
   "outputs": [],
   "source": [
    "M = np.array([[2-1j, -3],\n",
    "              [-5j, 2]])\n",
    "\n",
    "print(M)"
   ]
  },
  {
   "cell_type": "markdown",
   "metadata": {},
   "source": [
    "Since we may want to compute Hermitian conjugates of matrices we will only be using the matrix data structure."
   ]
  },
  {
   "cell_type": "code",
   "execution_count": null,
   "metadata": {},
   "outputs": [],
   "source": [
    "M = np.matrix([[2-1j, -3],\n",
    "               [-5j, 2]])\n",
    "\n",
    "print(M)"
   ]
  },
  {
   "cell_type": "markdown",
   "metadata": {},
   "source": [
    "Remember, Hermitian conjugates are given by taking the conjugate transpose of the matrix. This means we compute the complex conjugate of each entry, and then transpose the matrix. Generally, the Hermitian conjugate is denoted by $M^{\\dagger}$. "
   ]
  },
  {
   "cell_type": "code",
   "execution_count": null,
   "metadata": {},
   "outputs": [],
   "source": [
    "print(M.H)"
   ]
  },
  {
   "cell_type": "markdown",
   "metadata": {},
   "source": [
    "Let's have a look at another example of a Hermitian conjugate. "
   ]
  },
  {
   "cell_type": "code",
   "execution_count": null,
   "metadata": {},
   "outputs": [],
   "source": [
    "B = np.matrix([[1, -3j, 5, 2], \n",
    "               [1-1j, 1, 3, 7j]])\n",
    "\n",
    "print(B.H)"
   ]
  },
  {
   "cell_type": "markdown",
   "metadata": {},
   "source": [
    "This is a $4 \\times 2$ matrix which came from the $2 \\times 4$ matrix $B$. Notice all of its entries have also been conjugated. We can also multiply matrices so long as the dimensions match appropriately. In particular, to multiply two matrices $A$ and $B$, the matrix must be an $n \\times p$ matrix and the matrix $B$ must be a $p \\times m$ matrix. The result is an $n \\times m$ matrix. For example:"
   ]
  },
  {
   "cell_type": "code",
   "execution_count": null,
   "metadata": {},
   "outputs": [],
   "source": [
    "# Define a 3x2 matrix:\n",
    "A = np.matrix([[2j, -5],\n",
    "               [3-5j, 1], \n",
    "               [5, 4j]])\n",
    "\n",
    "# Define a 2x4 matrix:\n",
    "B = np.matrix([[1, -3j, 5, 2], \n",
    "               [1-1j, 1, 3, 7j]])\n",
    "\n",
    "#Taking the product of a (3x2) and (2x4) matrix will give a 3x4 matrix:\n",
    "np.dot(A, B)"
   ]
  },
  {
   "cell_type": "markdown",
   "metadata": {},
   "source": [
    "If we are using the matrix definition instead of the array definition we can also multiply the two matrices as follows:"
   ]
  },
  {
   "cell_type": "code",
   "execution_count": null,
   "metadata": {},
   "outputs": [],
   "source": [
    "A*B"
   ]
  },
  {
   "cell_type": "markdown",
   "metadata": {},
   "source": [
    "If we define the two matrices as arrays, this will not work and will return an error. We won't often be adding and subtracting matrices in the context of quantum computing but these operations are well defined for matrices of the same size. The Python code is exactly what you would expect it to be. Let's define two matrices of the same size. "
   ]
  },
  {
   "cell_type": "code",
   "execution_count": null,
   "metadata": {},
   "outputs": [],
   "source": [
    "M = np.matrix([[1, 2, 3], \n",
    "               [1j, 2j, 3j]])\n",
    "\n",
    "N = np.matrix([[2, 4, 6],\n",
    "               [-2j, -4j, -6j]])"
   ]
  },
  {
   "cell_type": "code",
   "execution_count": null,
   "metadata": {},
   "outputs": [],
   "source": [
    "M+N"
   ]
  },
  {
   "cell_type": "code",
   "execution_count": null,
   "metadata": {},
   "outputs": [],
   "source": [
    "M-N"
   ]
  },
  {
   "cell_type": "markdown",
   "metadata": {},
   "source": [
    "We can also multiply matrices by scalars."
   ]
  },
  {
   "cell_type": "code",
   "execution_count": null,
   "metadata": {},
   "outputs": [],
   "source": [
    "3*M"
   ]
  },
  {
   "cell_type": "markdown",
   "metadata": {},
   "source": [
    "## Exercises\n",
    "\n",
    "#### Define the following five matrices in Python:\n",
    "\n",
    "\\begin{align}\n",
    "I = \\begin{pmatrix} 1&0 \\\\ 0&1 \\end{pmatrix}, \\quad\n",
    "X = \\begin{pmatrix} 0&1 \\\\ 1&0 \\end{pmatrix}, \\quad\n",
    "Y = \\begin{pmatrix} 0&i \\\\ -i&0 \\end{pmatrix}, \\quad\n",
    "Z = \\begin{pmatrix} 1&0 \\\\ 0&-1 \\end{pmatrix}, \\quad\n",
    "H = \\frac{1}{\\sqrt{2}} \\begin{pmatrix} 1&1 \\\\ 1&-1 \\end{pmatrix}\n",
    "\\end{align}\n",
    "\n",
    "These are five of the most common single qubit gates used in quantum computing, and they will be used repeatedly. "
   ]
  },
  {
   "cell_type": "markdown",
   "metadata": {},
   "source": [
    "#### Write Python code to compute the following matrix multiplications:\n",
    "\n",
    "1. $XY$\n",
    "2. $YX$\n",
    "3. $YZ$\n",
    "4. $ZY$\n",
    "5. $HX$\n",
    "6. $YH$\n",
    "7. $XYZ$\n",
    "8. $YZX$\n",
    "9. $ZXY$\n",
    "10. $XHY$"
   ]
  },
  {
   "cell_type": "code",
   "execution_count": 6,
   "metadata": {
    "tags": []
   },
   "outputs": [],
   "source": [
    "I = np.matrix([[1, 0], [0, 1]])\n",
    "X = np.matrix([[0, 1], [1, 0]])\n",
    "Y = np.matrix([[0, 1j], [-1j, 0]])\n",
    "Z = np.matrix([[1, 0], [0, -1]])\n",
    "H = 1/np.sqrt(2) * np.matrix([[1, 1], [1, -1]])"
   ]
  },
  {
   "cell_type": "code",
   "execution_count": 7,
   "metadata": {
    "tags": []
   },
   "outputs": [
    {
     "data": {
      "text/plain": [
       "matrix([[0.-1.j, 0.+0.j],\n",
       "        [0.+0.j, 0.+1.j]])"
      ]
     },
     "execution_count": 7,
     "metadata": {},
     "output_type": "execute_result"
    }
   ],
   "source": [
    "X*Y"
   ]
  },
  {
   "cell_type": "code",
   "execution_count": 8,
   "metadata": {
    "tags": []
   },
   "outputs": [
    {
     "data": {
      "text/plain": [
       "matrix([[0.+1.j, 0.+0.j],\n",
       "        [0.+0.j, 0.-1.j]])"
      ]
     },
     "execution_count": 8,
     "metadata": {},
     "output_type": "execute_result"
    }
   ],
   "source": [
    "Y*X"
   ]
  },
  {
   "cell_type": "code",
   "execution_count": 9,
   "metadata": {
    "tags": []
   },
   "outputs": [
    {
     "data": {
      "text/plain": [
       "matrix([[0.+0.j, 0.-1.j],\n",
       "        [0.-1.j, 0.+0.j]])"
      ]
     },
     "execution_count": 9,
     "metadata": {},
     "output_type": "execute_result"
    }
   ],
   "source": [
    "Y*Z"
   ]
  },
  {
   "cell_type": "code",
   "execution_count": 10,
   "metadata": {
    "tags": []
   },
   "outputs": [
    {
     "data": {
      "text/plain": [
       "matrix([[0.+0.j, 0.+1.j],\n",
       "        [0.+1.j, 0.+0.j]])"
      ]
     },
     "execution_count": 10,
     "metadata": {},
     "output_type": "execute_result"
    }
   ],
   "source": [
    "Z*Y"
   ]
  },
  {
   "cell_type": "code",
   "execution_count": 11,
   "metadata": {
    "tags": []
   },
   "outputs": [
    {
     "data": {
      "text/plain": [
       "matrix([[ 0.70710678,  0.70710678],\n",
       "        [-0.70710678,  0.70710678]])"
      ]
     },
     "execution_count": 11,
     "metadata": {},
     "output_type": "execute_result"
    }
   ],
   "source": [
    "H*X"
   ]
  },
  {
   "cell_type": "code",
   "execution_count": 12,
   "metadata": {
    "tags": []
   },
   "outputs": [
    {
     "data": {
      "text/plain": [
       "matrix([[0.+0.70710678j, 0.-0.70710678j],\n",
       "        [0.-0.70710678j, 0.-0.70710678j]])"
      ]
     },
     "execution_count": 12,
     "metadata": {},
     "output_type": "execute_result"
    }
   ],
   "source": [
    "Y*H"
   ]
  },
  {
   "cell_type": "code",
   "execution_count": 13,
   "metadata": {
    "tags": []
   },
   "outputs": [
    {
     "data": {
      "text/plain": [
       "matrix([[0.-1.j, 0.+0.j],\n",
       "        [0.+0.j, 0.-1.j]])"
      ]
     },
     "execution_count": 13,
     "metadata": {},
     "output_type": "execute_result"
    }
   ],
   "source": [
    "X*Y*Z"
   ]
  },
  {
   "cell_type": "code",
   "execution_count": 14,
   "metadata": {
    "tags": []
   },
   "outputs": [
    {
     "data": {
      "text/plain": [
       "matrix([[0.-1.j, 0.+0.j],\n",
       "        [0.+0.j, 0.-1.j]])"
      ]
     },
     "execution_count": 14,
     "metadata": {},
     "output_type": "execute_result"
    }
   ],
   "source": [
    "Y*Z*X"
   ]
  },
  {
   "cell_type": "code",
   "execution_count": 15,
   "metadata": {
    "tags": []
   },
   "outputs": [
    {
     "data": {
      "text/plain": [
       "matrix([[0.-1.j, 0.+0.j],\n",
       "        [0.+0.j, 0.-1.j]])"
      ]
     },
     "execution_count": 15,
     "metadata": {},
     "output_type": "execute_result"
    }
   ],
   "source": [
    "Z*X*Y"
   ]
  },
  {
   "cell_type": "code",
   "execution_count": 16,
   "metadata": {
    "tags": []
   },
   "outputs": [
    {
     "data": {
      "text/plain": [
       "matrix([[0.+0.70710678j, 0.+0.70710678j],\n",
       "        [0.-0.70710678j, 0.+0.70710678j]])"
      ]
     },
     "execution_count": 16,
     "metadata": {},
     "output_type": "execute_result"
    }
   ],
   "source": [
    "X*H*Y"
   ]
  }
 ],
 "metadata": {
  "kernelspec": {
   "display_name": "Python 3 (ipykernel)",
   "language": "python",
   "name": "python3"
  },
  "language_info": {
   "codemirror_mode": {
    "name": "ipython",
    "version": 3
   },
   "file_extension": ".py",
   "mimetype": "text/x-python",
   "name": "python",
   "nbconvert_exporter": "python",
   "pygments_lexer": "ipython3",
   "version": "3.8.15"
  }
 },
 "nbformat": 4,
 "nbformat_minor": 4
}
