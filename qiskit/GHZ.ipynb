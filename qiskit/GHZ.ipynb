{
 "cells": [
  {
   "cell_type": "code",
   "execution_count": null,
   "id": "00087209-230d-4e11-875e-fdd81ddddc89",
   "metadata": {
    "tags": []
   },
   "outputs": [],
   "source": [
    "from qiskit import QuantumCircuit, Aer\n",
    "from qiskit.quantum_info import Statevector\n",
    "from qiskit.visualization import plot_histogram"
   ]
  },
  {
   "cell_type": "code",
   "execution_count": null,
   "id": "d8481c12-2aa4-4f3b-a324-6544228e7727",
   "metadata": {
    "tags": []
   },
   "outputs": [],
   "source": [
    "qc = QuantumCircuit(3, 3)\n",
    "qc.h(2)\n",
    "qc.cx(2, 1)\n",
    "qc.cx(2, 0)\n",
    "\n",
    "qc.draw(\"mpl\")"
   ]
  },
  {
   "cell_type": "code",
   "execution_count": null,
   "id": "13a1d1e4-5d38-4c3d-8acc-87f163dc4e79",
   "metadata": {
    "tags": []
   },
   "outputs": [],
   "source": [
    "Statevector(qc).draw('latex')"
   ]
  },
  {
   "cell_type": "code",
   "execution_count": null,
   "id": "e345e805-a104-4c7f-b18d-0a94733f3330",
   "metadata": {
    "tags": []
   },
   "outputs": [],
   "source": [
    "qc.barrier()\n",
    "qc.measure(range(3), range(3))\n",
    "qc.draw('mpl')"
   ]
  },
  {
   "cell_type": "code",
   "execution_count": null,
   "id": "2fe5d12d-e9ad-4745-b0ba-d062789380f4",
   "metadata": {
    "tags": []
   },
   "outputs": [],
   "source": [
    "sim = Aer.get_backend('aer_simulator')\n",
    "plot_histogram(sim.run(qc).result().get_counts())"
   ]
  },
  {
   "cell_type": "code",
   "execution_count": null,
   "id": "24fb5705-cf83-4c7e-8f7b-4ddb09d6625f",
   "metadata": {
    "tags": []
   },
   "outputs": [],
   "source": [
    "from qiskit_ibm_provider import IBMProvider\n",
    "provider = IBMProvider()"
   ]
  },
  {
   "cell_type": "code",
   "execution_count": null,
   "id": "c624416d-a46f-400d-b661-481798deb488",
   "metadata": {
    "tags": []
   },
   "outputs": [],
   "source": [
    "provider.backends()"
   ]
  },
  {
   "cell_type": "code",
   "execution_count": null,
   "id": "0fab908e-0025-4ab9-b33b-05bfaf87de61",
   "metadata": {
    "tags": []
   },
   "outputs": [],
   "source": [
    "provider.get_backend('ibmq_lima')._properties.__dict__"
   ]
  },
  {
   "cell_type": "code",
   "execution_count": null,
   "id": "7a37f101-a2e8-4d6e-8b5d-4457e5d9b83b",
   "metadata": {
    "tags": []
   },
   "outputs": [],
   "source": [
    "sim = provider.get_backend('ibmq_lima')\n",
    "job = sim.run(qc)"
   ]
  },
  {
   "cell_type": "code",
   "execution_count": null,
   "id": "23ace46e-6a35-4ad5-8264-ecf405dab212",
   "metadata": {
    "tags": []
   },
   "outputs": [],
   "source": [
    "provider.backend.jobs(backend_name='ibmq_lima')"
   ]
  },
  {
   "cell_type": "code",
   "execution_count": null,
   "id": "215f7617-2836-4692-950e-f743147043e0",
   "metadata": {
    "tags": []
   },
   "outputs": [],
   "source": [
    "job_data = provider.backend.retrieve_job('ch81thjmre35qqorjlqg')"
   ]
  },
  {
   "cell_type": "code",
   "execution_count": null,
   "id": "0a1333a8-c4ad-4aa6-906e-f20997a96455",
   "metadata": {
    "tags": []
   },
   "outputs": [],
   "source": [
    "job_data.__dict__"
   ]
  }
 ],
 "metadata": {
  "kernelspec": {
   "display_name": "Python 3 (ipykernel)",
   "language": "python",
   "name": "python3"
  },
  "language_info": {
   "codemirror_mode": {
    "name": "ipython",
    "version": 3
   },
   "file_extension": ".py",
   "mimetype": "text/x-python",
   "name": "python",
   "nbconvert_exporter": "python",
   "pygments_lexer": "ipython3",
   "version": "3.7.5"
  }
 },
 "nbformat": 4,
 "nbformat_minor": 5
}
