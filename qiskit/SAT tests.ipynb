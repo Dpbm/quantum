{
 "cells": [
  {
   "cell_type": "code",
   "execution_count": 1,
   "id": "77d71485-85df-4537-b562-cfb281aecc44",
   "metadata": {},
   "outputs": [],
   "source": [
    "from qiskit import QuantumCircuit"
   ]
  },
  {
   "cell_type": "code",
   "execution_count": 85,
   "id": "1fd60773-8264-4ca2-9578-6cc4c9796172",
   "metadata": {},
   "outputs": [],
   "source": [
    "def display_unitary(qc, prefix=\"\"):\n",
    "    \"\"\"Simulates a simple circuit and display its matrix representation.\n",
    "    Args:\n",
    "        qc (QuantumCircuit): The circuit to compile to a unitary matrix\n",
    "        prefix (str): Optional LaTeX to be displayed before the matrix\n",
    "    Returns:\n",
    "        None (displays matrix as side effect)\n",
    "    \"\"\"\n",
    "    from qiskit import Aer\n",
    "    from qiskit.visualization import array_to_latex\n",
    "    sim = Aer.get_backend('aer_simulator')\n",
    "    # Next, we'll create a copy of the circuit and work on\n",
    "    # that so we don't change anything as a side effect\n",
    "    qc = qc.copy()\n",
    "    # Tell the simulator to save the unitary matrix of this circuit\n",
    "    qc.save_unitary()\n",
    "    unitary = sim.run(qc).result()\n",
    "    display(array_to_latex(unitary, prefix=prefix))\n"
   ]
  },
  {
   "cell_type": "code",
   "execution_count": 17,
   "id": "703cd855-8cbe-46ac-bd06-3cd8ddc074d8",
   "metadata": {},
   "outputs": [
    {
     "name": "stdout",
     "output_type": "stream",
     "text": [
      "----Test with shift -1 at 00----\n",
      "     ┌───┐   ┌───┐\n",
      "q_0: ┤ X ├─■─┤ X ├\n",
      "     ├───┤ │ ├───┤\n",
      "q_1: ┤ X ├─■─┤ X ├\n",
      "     └───┘   └───┘\n"
     ]
    },
    {
     "data": {
      "text/latex": [
       "$$\n",
       "\n",
       "\\begin{bmatrix}\n",
       "-1 & 0 & 0 & 0  \\\\\n",
       " 0 & 1 & 0 & 0  \\\\\n",
       " 0 & 0 & 1 & 0  \\\\\n",
       " 0 & 0 & 0 & 1  \\\\\n",
       " \\end{bmatrix}\n",
       "$$"
      ],
      "text/plain": [
       "<IPython.core.display.Latex object>"
      ]
     },
     "metadata": {},
     "output_type": "display_data"
    },
    {
     "name": "stdout",
     "output_type": "stream",
     "text": [
      "\n",
      "\n",
      "----Test with shift -1 at 01----\n",
      "                  \n",
      "q_0: ──────■──────\n",
      "     ┌───┐ │ ┌───┐\n",
      "q_1: ┤ X ├─■─┤ X ├\n",
      "     └───┘   └───┘\n"
     ]
    },
    {
     "data": {
      "text/latex": [
       "$$\n",
       "\n",
       "\\begin{bmatrix}\n",
       "1 & 0 & 0 & 0  \\\\\n",
       " 0 & -1 & 0 & 0  \\\\\n",
       " 0 & 0 & 1 & 0  \\\\\n",
       " 0 & 0 & 0 & 1  \\\\\n",
       " \\end{bmatrix}\n",
       "$$"
      ],
      "text/plain": [
       "<IPython.core.display.Latex object>"
      ]
     },
     "metadata": {},
     "output_type": "display_data"
    },
    {
     "name": "stdout",
     "output_type": "stream",
     "text": [
      "\n",
      "\n",
      "----Test with shift -1 at 10----\n",
      "     ┌───┐   ┌───┐\n",
      "q_0: ┤ X ├─■─┤ X ├\n",
      "     └───┘ │ └───┘\n",
      "q_1: ──────■──────\n",
      "                  \n"
     ]
    },
    {
     "data": {
      "text/latex": [
       "$$\n",
       "\n",
       "\\begin{bmatrix}\n",
       "1 & 0 & 0 & 0  \\\\\n",
       " 0 & 1 & 0 & 0  \\\\\n",
       " 0 & 0 & -1 & 0  \\\\\n",
       " 0 & 0 & 0 & 1  \\\\\n",
       " \\end{bmatrix}\n",
       "$$"
      ],
      "text/plain": [
       "<IPython.core.display.Latex object>"
      ]
     },
     "metadata": {},
     "output_type": "display_data"
    },
    {
     "name": "stdout",
     "output_type": "stream",
     "text": [
      "\n",
      "\n",
      "----Test with shift -1 at 11----\n",
      "        \n",
      "q_0: ─■─\n",
      "      │ \n",
      "q_1: ─■─\n",
      "        \n"
     ]
    },
    {
     "data": {
      "text/latex": [
       "$$\n",
       "\n",
       "\\begin{bmatrix}\n",
       "1 & 0 & 0 & 0  \\\\\n",
       " 0 & 1 & 0 & 0  \\\\\n",
       " 0 & 0 & 1 & 0  \\\\\n",
       " 0 & 0 & 0 & -1  \\\\\n",
       " \\end{bmatrix}\n",
       "$$"
      ],
      "text/plain": [
       "<IPython.core.display.Latex object>"
      ]
     },
     "metadata": {},
     "output_type": "display_data"
    }
   ],
   "source": [
    "test_with_two_qubits = QuantumCircuit(2)\n",
    "\n",
    "\n",
    "print(\"----Test with shift -1 at 00----\")\n",
    "phase_shift_with_zero = test_with_two_qubits.copy()\n",
    "\n",
    "phase_shift_with_zero.x(0)\n",
    "phase_shift_with_zero.x(1)\n",
    "\n",
    "phase_shift_with_zero.cz(0, 1)\n",
    "\n",
    "phase_shift_with_zero.x(0)\n",
    "phase_shift_with_zero.x(1)\n",
    "\n",
    "print(phase_shift_with_zero)\n",
    "display_unitary(phase_shift_with_zero)\n",
    "\n",
    "\n",
    "print(\"\\n\\n----Test with shift -1 at 01----\")\n",
    "phase_shift_with_one = test_with_two_qubits.copy()\n",
    "\n",
    "phase_shift_with_one.x(1)\n",
    "\n",
    "phase_shift_with_one.cz(0, 1)\n",
    "\n",
    "phase_shift_with_one.x(1)\n",
    "\n",
    "print(phase_shift_with_one)\n",
    "display_unitary(phase_shift_with_one)\n",
    "\n",
    "\n",
    "print(\"\\n\\n----Test with shift -1 at 10----\")\n",
    "phase_shift_with_two = test_with_two_qubits.copy()\n",
    "\n",
    "phase_shift_with_two.x(0)\n",
    "\n",
    "phase_shift_with_two.cz(0, 1)\n",
    "\n",
    "phase_shift_with_two.x(0)\n",
    "\n",
    "print(phase_shift_with_two)\n",
    "display_unitary(phase_shift_with_two)\n",
    "\n",
    "\n",
    "print(\"\\n\\n----Test with shift -1 at 11----\")\n",
    "phase_shift_with_two = test_with_two_qubits.copy()\n",
    "\n",
    "phase_shift_with_two.cz(0, 1)\n",
    "\n",
    "print(phase_shift_with_two)\n",
    "display_unitary(phase_shift_with_two)\n",
    "\n"
   ]
  },
  {
   "cell_type": "code",
   "execution_count": 93,
   "id": "c943a852-3b0f-4774-94cd-4edb5e59a60a",
   "metadata": {},
   "outputs": [
    {
     "name": "stdout",
     "output_type": "stream",
     "text": [
      "----This acts like and OR (or 011 or 101)----\n",
      "           \n",
      "q_0: ─■──■─\n",
      "      │  │ \n",
      "q_1: ─┼──■─\n",
      "      │    \n",
      "q_2: ─■────\n",
      "           \n"
     ]
    },
    {
     "data": {
      "text/latex": [
       "$$\n",
       "\n",
       "\\begin{bmatrix}\n",
       "1 & 0 & 0 & 0 & 0 & 0 & 0 & 0  \\\\\n",
       " 0 & 1 & 0 & 0 & 0 & 0 & 0 & 0  \\\\\n",
       " 0 & 0 & 1 & 0 & 0 & 0 & 0 & 0  \\\\\n",
       " 0 & 0 & 0 & -1 & 0 & 0 & 0 & 0  \\\\\n",
       " 0 & 0 & 0 & 0 & 1 & 0 & 0 & 0  \\\\\n",
       " 0 & 0 & 0 & 0 & 0 & -1 & 0 & 0  \\\\\n",
       " 0 & 0 & 0 & 0 & 0 & 0 & 1 & 0  \\\\\n",
       " 0 & 0 & 0 & 0 & 0 & 0 & 0 & 1  \\\\\n",
       " \\end{bmatrix}\n",
       "$$"
      ],
      "text/plain": [
       "<IPython.core.display.Latex object>"
      ]
     },
     "metadata": {},
     "output_type": "display_data"
    },
    {
     "name": "stdout",
     "output_type": "stream",
     "text": [
      "\n",
      "\n",
      "----Test with shift -1 at 000----\n",
      "        \n",
      "q_0: ─■─\n",
      "      │ \n",
      "q_1: ─■─\n",
      "      │ \n",
      "q_2: ─■─\n",
      "        \n"
     ]
    },
    {
     "data": {
      "text/latex": [
       "$$ |000\\rangle$$"
      ],
      "text/plain": [
       "<IPython.core.display.Latex object>"
      ]
     },
     "execution_count": 93,
     "metadata": {},
     "output_type": "execute_result"
    }
   ],
   "source": [
    "test_with_three_qubits = QuantumCircuit(3)\n",
    "\n",
    "\n",
    "print(\"----This acts like and OR (or 011 or 101)----\")\n",
    "phase_shift_with_or = test_with_three_qubits.copy()\n",
    "\n",
    "\n",
    "phase_shift_with_or.cz(0,2)\n",
    "phase_shift_with_or.cz(0,1)\n",
    "\n",
    "\n",
    "print(phase_shift_with_or)\n",
    "display_unitary(phase_shift_with_or)\n",
    "\n",
    "\n",
    "\n",
    "print(\"\\n\\n----Test with shift -1 at 000----\")\n",
    "phase_shift_with_zero = test_with_three_qubits.copy()\n",
    "\n",
    "\n",
    "phase_shift_with_zero.x(0)\n",
    "phase_shift_with_zero.x(1)\n",
    "phase_shift_with_zero.x(2)\n",
    "\n",
    "\n",
    "phase_shift_with_zero.ccz(0, 1, 2)\n",
    "\n",
    "\n",
    "phase_shift_with_zero.x(0)\n",
    "phase_shift_with_zero.x(1)\n",
    "phase_shift_with_zero.x(2)\n",
    "\n",
    "print(phase_shift_with_zero)\n",
    "\n"
   ]
  }
 ],
 "metadata": {
  "kernelspec": {
   "display_name": "Python 3 (ipykernel)",
   "language": "python",
   "name": "python3"
  },
  "language_info": {
   "codemirror_mode": {
    "name": "ipython",
    "version": 3
   },
   "file_extension": ".py",
   "mimetype": "text/x-python",
   "name": "python",
   "nbconvert_exporter": "python",
   "pygments_lexer": "ipython3",
   "version": "3.7.5"
  }
 },
 "nbformat": 4,
 "nbformat_minor": 5
}
