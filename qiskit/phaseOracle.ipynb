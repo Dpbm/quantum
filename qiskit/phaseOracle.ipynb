{
 "cells": [
  {
   "cell_type": "code",
   "execution_count": 35,
   "id": "7af9c70a-834c-420f-8343-2a914fa332e3",
   "metadata": {},
   "outputs": [],
   "source": [
    "def display_unitary(qc, prefix=\"\"):\n",
    "    \"\"\"Simulates a simple circuit and display its matrix representation.\n",
    "    Args:\n",
    "        qc (QuantumCircuit): The circuit to compile to a unitary matrix\n",
    "        prefix (str): Optional LaTeX to be displayed before the matrix\n",
    "    Returns:\n",
    "        None (displays matrix as side effect)\n",
    "    \"\"\"\n",
    "    from qiskit import Aer\n",
    "    from qiskit.visualization import array_to_latex\n",
    "    sim = Aer.get_backend('aer_simulator')\n",
    "    # Next, we'll create a copy of the circuit and work on\n",
    "    # that so we don't change anything as a side effect\n",
    "    qc = qc.copy()\n",
    "    # Tell the simulator to save the unitary matrix of this circuit\n",
    "    qc.save_unitary()\n",
    "    unitary = sim.run(qc).result().get_unitary()\n",
    "    display(array_to_latex(unitary, prefix=prefix))\n"
   ]
  },
  {
   "cell_type": "code",
   "execution_count": 31,
   "id": "477077b9-9af7-4d90-8a7d-18e3c7fb1d17",
   "metadata": {},
   "outputs": [
    {
     "name": "stdout",
     "output_type": "stream",
     "text": [
      "     ┌───┐   ┌───┐┌───┐\n",
      "q_0: ┤ X ├─■─┤ Z ├┤ X ├\n",
      "     ├───┤ │ ├───┤├───┤\n",
      "q_1: ┤ X ├─■─┤ Z ├┤ X ├\n",
      "     └───┘   └───┘└───┘\n"
     ]
    },
    {
     "data": {
      "text/latex": [
       "$$\n",
       "\n",
       "\\begin{bmatrix}\n",
       "-1 & 0 & 0 & 0  \\\\\n",
       " 0 & -1 & 0 & 0  \\\\\n",
       " 0 & 0 & -1 & 0  \\\\\n",
       " 0 & 0 & 0 & 1  \\\\\n",
       " \\end{bmatrix}\n",
       "$$"
      ],
      "text/plain": [
       "<IPython.core.display.Latex object>"
      ]
     },
     "metadata": {},
     "output_type": "display_data"
    }
   ],
   "source": [
    "from qiskit import QuantumCircuit\n",
    "\n",
    "circuit = QuantumCircuit(2)\n",
    "\n",
    "circuit.x(0)\n",
    "circuit.x(1)\n",
    "\n",
    "circuit.cz(1,0)\n",
    "\n",
    "circuit.z(0)\n",
    "circuit.z(1)\n",
    "\n",
    "circuit.x(0)\n",
    "circuit.x(1)\n",
    "\n",
    "print(circuit)\n",
    "\n"
   ]
  },
  {
   "cell_type": "code",
   "execution_count": 65,
   "id": "92d117b6-d834-4c8a-ba36-089bcfe0301d",
   "metadata": {},
   "outputs": [
    {
     "name": "stdout",
     "output_type": "stream",
     "text": [
      "     ┌───┐┌───┐   ┌───┐\n",
      "q_0: ┤ H ├┤ X ├─■─┤ X ├\n",
      "     ├───┤└───┘ │ └───┘\n",
      "q_1: ┤ H ├──────■──────\n",
      "     └───┘             \n",
      "c: 2/══════════════════\n",
      "                       \n"
     ]
    },
    {
     "data": {
      "text/latex": [
       "$$\\frac{1}{2} |00\\rangle+\\frac{1}{2} |01\\rangle- \\frac{1}{2} |10\\rangle+\\frac{1}{2} |11\\rangle$$"
      ],
      "text/plain": [
       "<IPython.core.display.Latex object>"
      ]
     },
     "execution_count": 65,
     "metadata": {},
     "output_type": "execute_result"
    }
   ],
   "source": [
    "from qiskit.quantum_info import Statevector\n",
    "\n",
    "new_circuit = QuantumCircuit(2,2)\n",
    "\n",
    "new_circuit.h(0)\n",
    "new_circuit.h(1)\n",
    "\n",
    "new_circuit.x(0)\n",
    "new_circuit.cz(1,0)\n",
    "new_circuit.x(0)\n",
    "\n",
    "\n",
    "print(new_circuit)\n",
    "\n",
    "\n",
    "st = Statevector(new_circuit)\n",
    "st.draw(\"latex\")\n",
    "\n"
   ]
  },
  {
   "cell_type": "code",
   "execution_count": 66,
   "id": "f7aa16ac-554b-4504-897d-f8e077925993",
   "metadata": {},
   "outputs": [
    {
     "name": "stdout",
     "output_type": "stream",
     "text": [
      "{'01': 248, '11': 253, '10': 274, '00': 249}\n"
     ]
    }
   ],
   "source": [
    "from qiskit.providers.aer import AerSimulator\n",
    "\n",
    "new_circuit.measure([0,1], [0,1])\n",
    "\n",
    "sim = AerSimulator()\n",
    "job = sim.run(new_circuit)\n",
    "result = job.result()\n",
    "print(result.get_counts())"
   ]
  },
  {
   "cell_type": "code",
   "execution_count": 67,
   "id": "48fcadb1-b109-49a8-af1f-5abaeac4b728",
   "metadata": {},
   "outputs": [
    {
     "name": "stdout",
     "output_type": "stream",
     "text": [
      "{'10': 1}\n"
     ]
    },
    {
     "data": {
      "image/png": "[encoded data removed]",
      "text/plain": [
       "<Figure size 700x500 with 1 Axes>"
      ]
     },
     "execution_count": 67,
     "metadata": {},
     "output_type": "execute_result"
    }
   ],
   "source": [
    "from qiskit import Aer, execute\n",
    "from qiskit.visualization import plot_histogram\n",
    "\n",
    "results = execute(new_circuit,Aer.get_backend('statevector_simulator')).result()\n",
    "print(results.get_counts())\n",
    "plot_histogram(results.get_counts())"
   ]
  }
 ],
 "metadata": {
  "kernelspec": {
   "display_name": "Python 3 (ipykernel)",
   "language": "python",
   "name": "python3"
  },
  "language_info": {
   "codemirror_mode": {
    "name": "ipython",
    "version": 3
   },
   "file_extension": ".py",
   "mimetype": "text/x-python",
   "name": "python",
   "nbconvert_exporter": "python",
   "pygments_lexer": "ipython3",
   "version": "3.7.5"
  }
 },
 "nbformat": 4,
 "nbformat_minor": 5
}
