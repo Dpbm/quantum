{
 "cells": [
  {
   "cell_type": "code",
   "execution_count": 14,
   "id": "4bd04b51-66b0-4d82-b1a3-85ec3c359ace",
   "metadata": {},
   "outputs": [],
   "source": [
    "from qiskit import QuantumCircuit\n",
    "from qiskit.quantum_info import Statevector"
   ]
  },
  {
   "cell_type": "code",
   "execution_count": 45,
   "id": "774478a0-cb1d-40f0-8453-70737d4e2ba5",
   "metadata": {},
   "outputs": [
    {
     "data": {
      "text/latex": [
       "$$\\frac{\\sqrt{2}}{2} |00\\rangle+\\frac{\\sqrt{2}}{2} |11\\rangle$$"
      ],
      "text/plain": [
       "<IPython.core.display.Latex object>"
      ]
     },
     "execution_count": 45,
     "metadata": {},
     "output_type": "execute_result"
    }
   ],
   "source": [
    "qc = QuantumCircuit(2, 1)\n",
    "\n",
    "# when the hadamard gate is 1 the second qubit will be 1 too\n",
    "# when the h gate is 0 the second qubit will be 0 too\n",
    "# this happens because we are using a CNOT to entangle them\n",
    "\n",
    "qc.h(0)\n",
    "qc.cx(0, 1)\n",
    "\n",
    "\n",
    "st = Statevector(qc)\n",
    "st.draw(\"latex\")\n"
   ]
  },
  {
   "cell_type": "code",
   "execution_count": 37,
   "id": "70ad5a3d-1aca-4afe-a5ca-cee520e68197",
   "metadata": {},
   "outputs": [
    {
     "data": {
      "text/latex": [
       "$$ |11\\rangle$$"
      ],
      "text/plain": [
       "<IPython.core.display.Latex object>"
      ]
     },
     "execution_count": 37,
     "metadata": {},
     "output_type": "execute_result"
    }
   ],
   "source": [
    "qc2 = QuantumCircuit(2, 1)\n",
    "\n",
    "qc2.x(0)\n",
    "qc2.x(1)\n",
    "qc2.cz(0, 1)\n",
    "qc2.cz(0, 1)\n",
    "\n",
    "\n",
    "st = Statevector(qc2)\n",
    "st.draw(\"latex\")\n"
   ]
  },
  {
   "cell_type": "code",
   "execution_count": 52,
   "id": "dae43837-ab5f-4213-8f96-a2528a9ee3e3",
   "metadata": {},
   "outputs": [
    {
     "data": {
      "text/latex": [
       "$$\\frac{1}{2} |00\\rangle- \\frac{1}{2} |01\\rangle- \\frac{1}{2} |10\\rangle+\\frac{1}{2} |11\\rangle$$"
      ],
      "text/plain": [
       "<IPython.core.display.Latex object>"
      ]
     },
     "execution_count": 52,
     "metadata": {},
     "output_type": "execute_result"
    }
   ],
   "source": [
    "qc3 = QuantumCircuit(2, 1)\n",
    "\n",
    "qc3.h(0)\n",
    "qc3.h(1)\n",
    "\n",
    "qc3.z(0)\n",
    "qc3.cx(1,0)\n",
    "\n",
    "st = Statevector(qc3)\n",
    "st.draw(\"latex\")"
   ]
  }
 ],
 "metadata": {
  "kernelspec": {
   "display_name": "Python 3 (ipykernel)",
   "language": "python",
   "name": "python3"
  },
  "language_info": {
   "codemirror_mode": {
    "name": "ipython",
    "version": 3
   },
   "file_extension": ".py",
   "mimetype": "text/x-python",
   "name": "python",
   "nbconvert_exporter": "python",
   "pygments_lexer": "ipython3",
   "version": "3.7.5"
  }
 },
 "nbformat": 4,
 "nbformat_minor": 5
}
