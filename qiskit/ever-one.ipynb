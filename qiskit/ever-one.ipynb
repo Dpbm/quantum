{
 "cells": [
  {
   "cell_type": "code",
   "execution_count": 27,
   "id": "bf24cb6e-eb51-46ce-9a05-5ec121ca4930",
   "metadata": {
    "tags": []
   },
   "outputs": [],
   "source": [
    "from qiskit import QuantumCircuit, transpile\n",
    "from qiskit.quantum_info import Statevector\n",
    "from qiskit.converters import circuit_to_gate"
   ]
  },
  {
   "cell_type": "code",
   "execution_count": 40,
   "id": "e8f63207-2049-4ebd-93cd-9924bd15a6ac",
   "metadata": {
    "tags": []
   },
   "outputs": [
    {
     "data": {
      "image/png": "[encoded data removed]",
      "text/plain": [
       "<Figure size 203.683x200.667 with 1 Axes>"
      ]
     },
     "execution_count": 40,
     "metadata": {},
     "output_type": "execute_result"
    }
   ],
   "source": [
    "ever_one = QuantumCircuit(2)\n",
    "\n",
    "ever_one.x(1)\n",
    "\n",
    "ever_one.draw(\"mpl\")"
   ]
  },
  {
   "cell_type": "markdown",
   "id": "478d9c50-4a77-494b-bc0b-4c49c7844ef6",
   "metadata": {},
   "source": [
    " A | S\n",
    "---|---\n",
    " 0 | 1\n",
    " 1 | 1\n",
    " \n",
    " \n",
    " ---\n",
    "\n",
    " \n",
    " A | B | A | S (1 ⊕ B) (note:  f(A) = 1, so S = f(A)⊕B)\n",
    "---|---|---|------------ \n",
    " 0 | 0 | 0 | 1\n",
    " 0 | 1 | 0 | 0\n",
    " 1 | 0 | 1 | 1\n",
    " 1 | 1 | 1 | 0"
   ]
  },
  {
   "cell_type": "code",
   "execution_count": 41,
   "id": "5b4bc14d-60f4-4206-8d2a-4d16cfafa3a1",
   "metadata": {
    "tags": []
   },
   "outputs": [],
   "source": [
    "one = circuit_to_gate(ever_one, label=\"one\")"
   ]
  },
  {
   "cell_type": "code",
   "execution_count": 42,
   "id": "f96272f2-8d9d-4216-9da0-4b5f95a43b0a",
   "metadata": {
    "tags": []
   },
   "outputs": [
    {
     "data": {
      "image/png": "[encoded data removed]",
      "text/plain": [
       "<Figure size 370.906x200.667 with 1 Axes>"
      ]
     },
     "execution_count": 42,
     "metadata": {},
     "output_type": "execute_result"
    }
   ],
   "source": [
    "qc = QuantumCircuit(2)\n",
    "\n",
    "qc.x(0)\n",
    "\n",
    "qc.barrier()\n",
    "\n",
    "qc.append(one, [0, 1])\n",
    "qc.draw(\"mpl\")"
   ]
  },
  {
   "cell_type": "code",
   "execution_count": 43,
   "id": "73772f12-1326-4ed5-ba31-f0e0ef1266aa",
   "metadata": {
    "tags": []
   },
   "outputs": [
    {
     "data": {
      "text/latex": [
       "$$ |11\\rangle$$"
      ],
      "text/plain": [
       "<IPython.core.display.Latex object>"
      ]
     },
     "execution_count": 43,
     "metadata": {},
     "output_type": "execute_result"
    }
   ],
   "source": [
    "st = Statevector(qc)\n",
    "st.draw(\"latex\")"
   ]
  }
 ],
 "metadata": {
  "kernelspec": {
   "display_name": "Python 3 (ipykernel)",
   "language": "python",
   "name": "python3"
  },
  "language_info": {
   "codemirror_mode": {
    "name": "ipython",
    "version": 3
   },
   "file_extension": ".py",
   "mimetype": "text/x-python",
   "name": "python",
   "nbconvert_exporter": "python",
   "pygments_lexer": "ipython3",
   "version": "3.7.5"
  }
 },
 "nbformat": 4,
 "nbformat_minor": 5
}
