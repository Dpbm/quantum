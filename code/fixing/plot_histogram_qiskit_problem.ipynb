{
  "nbformat": 4,
  "nbformat_minor": 0,
  "metadata": {
    "colab": {
      "provenance": []
    },
    "kernelspec": {
      "name": "python3",
      "display_name": "Python 3"
    },
    "language_info": {
      "name": "python"
    }
  },
  "cells": [
    {
      "cell_type": "markdown",
      "source": [
        "# Correction to [10158 Issue](https://github.com/Qiskit/qiskit-terra/issues/10158) from qiskit-terra"
      ],
      "metadata": {
        "id": "J5Glr0VNvq1x"
      }
    },
    {
      "cell_type": "code",
      "execution_count": null,
      "metadata": {
        "id": "-a9q-wSIjUES"
      },
      "outputs": [],
      "source": [
        "!pip install qiskit"
      ]
    },
    {
      "cell_type": "code",
      "source": [
        "from qiskit.result import QuasiDistribution,ProbDistribution\n",
        "dist_1 = {'01': 0.369, '00': 0.13975, '10': 0.45875, '11': 0.0325}\n",
        "dist_2 = {'00': 0.011835180722095105,\n",
        " '01': 0.48784140401270437,\n",
        " '10': 0.4983486948083151,\n",
        " '11': 0.001974720456885419}\n",
        "dist_3 = {'01': 0.4999999999999999, '10': 0.4999999999999999}\n",
        "\n"
      ],
      "metadata": {
        "id": "aZAxd_WpjZfE"
      },
      "execution_count": null,
      "outputs": []
    },
    {
      "cell_type": "code",
      "source": [
        "from collections import OrderedDict\n",
        "import functools\n",
        "import numpy as np"
      ],
      "metadata": {
        "id": "93OO-sIdZJRW"
      },
      "execution_count": null,
      "outputs": []
    },
    {
      "cell_type": "code",
      "source": [
        "def plot_histogram(\n",
        "    data,\n",
        "    figsize=(7, 5),\n",
        "    color=None,\n",
        "    number_to_keep=None,\n",
        "    sort=\"asc\",\n",
        "    target_string=None,\n",
        "    legend=None,\n",
        "    bar_labels=True,\n",
        "    title=None,\n",
        "    ax=None,\n",
        "    filename=None,\n",
        "):\n",
        "\n",
        "    if not isinstance(data, list):\n",
        "        data = [data]\n",
        "\n",
        "    kind = \"counts\"\n",
        "    for dat in data:\n",
        "        if isinstance(dat, (QuasiDistribution, ProbDistribution)) or isinstance(\n",
        "            next(iter(dat.values())), float\n",
        "        ):\n",
        "            kind = \"distribution\"\n",
        "    return _plotting_core(\n",
        "        data,\n",
        "        figsize,\n",
        "        color,\n",
        "        number_to_keep,\n",
        "        sort,\n",
        "        target_string,\n",
        "        legend,\n",
        "        bar_labels,\n",
        "        title,\n",
        "        ax,\n",
        "        filename,\n",
        "        kind=kind,\n",
        "    )\n"
      ],
      "metadata": {
        "id": "DZnHllYYSMyt"
      },
      "execution_count": null,
      "outputs": []
    },
    {
      "cell_type": "code",
      "source": [
        "\n",
        "def matplotlib_close_if_inline(figure):\n",
        "    import matplotlib.pyplot\n",
        "\n",
        "    MATPLOTLIB_INLINE_BACKENDS = {\n",
        "        \"module://ipykernel.pylab.backend_inline\",\n",
        "        \"module://matplotlib_inline.backend_inline\",\n",
        "        \"nbAgg\",\n",
        "    }\n",
        "\n",
        "    if matplotlib.get_backend() in MATPLOTLIB_INLINE_BACKENDS:\n",
        "        matplotlib.pyplot.close(figure)"
      ],
      "metadata": {
        "id": "4pIBmCs-l1H8"
      },
      "execution_count": null,
      "outputs": []
    },
    {
      "cell_type": "code",
      "source": [
        "\n",
        "def _plotting_core(\n",
        "    data,\n",
        "    figsize=(7, 5),\n",
        "    color=None,\n",
        "    number_to_keep=None,\n",
        "    sort=\"asc\",\n",
        "    target_string=None,\n",
        "    legend=None,\n",
        "    bar_labels=True,\n",
        "    title=None,\n",
        "    ax=None,\n",
        "    filename=None,\n",
        "    kind=\"counts\",\n",
        "):\n",
        "    import matplotlib.pyplot as plt\n",
        "    from matplotlib.ticker import MaxNLocator\n",
        "\n",
        "\n",
        "    if isinstance(data, dict):\n",
        "        data = [data]\n",
        "\n",
        "\n",
        "    # Set bar colors\n",
        "    if color is None:\n",
        "        color = [\"#648fff\", \"#dc267f\", \"#785ef0\", \"#ffb000\", \"#fe6100\"]\n",
        "    elif isinstance(color, str):\n",
        "        color = [color]\n",
        "\n",
        "    if ax is None:\n",
        "        fig, ax = plt.subplots(figsize=figsize)\n",
        "    else:\n",
        "        fig = None\n",
        "\n",
        "    labels = sorted(functools.reduce(lambda x, y: x.union(y.keys()), data, set()))\n",
        "    if number_to_keep is not None:\n",
        "        labels.append(\"rest\")\n",
        "\n",
        "\n",
        "\n",
        "    length = len(data)\n",
        "    width = 1 / (len(data) + 1)  # the width of the bars\n",
        "\n",
        "    labels_dict, all_pvalues, all_inds = _plot_data(data, labels, number_to_keep, kind=kind)\n",
        "    rects = []\n",
        "\n",
        "    for item, _ in enumerate(data):\n",
        "        label = None\n",
        "\n",
        "        for idx, val in enumerate(all_pvalues[item]):\n",
        "            if not idx and legend:\n",
        "                label = legend[item]\n",
        "            if val > 0:\n",
        "                rects.append(\n",
        "                    ax.bar(\n",
        "                        idx + item * width,\n",
        "                        val,\n",
        "                        width,\n",
        "                        label=label,\n",
        "                        color=color[item % len(color)],\n",
        "                        zorder=2,\n",
        "                    )\n",
        "                )\n",
        "                label = None\n",
        "        bar_center = (width / 2) * (length - 1)\n",
        "        ax.set_xticks(all_inds[item] + bar_center)\n",
        "        ax.set_xticklabels(labels_dict.keys(), fontsize=14, rotation=70)\n",
        "        # attach some text labels\n",
        "        if bar_labels:\n",
        "            for rect in rects:\n",
        "                for rec in rect:\n",
        "                    height = rec.get_height()\n",
        "                    if kind == \"distribution\":\n",
        "                        height = round(height, 3)\n",
        "                    if height >= 1e-3:\n",
        "                        ax.text(\n",
        "                            rec.get_x() + rec.get_width() / 2.0,\n",
        "                            1.05 * height,\n",
        "                            str(height),\n",
        "                            ha=\"center\",\n",
        "                            va=\"bottom\",\n",
        "                            zorder=3,\n",
        "                        )\n",
        "                    else:\n",
        "                        ax.text(\n",
        "                            rec.get_x() + rec.get_width() / 2.0,\n",
        "                            1.05 * height,\n",
        "                            \"0\",\n",
        "                            ha=\"center\",\n",
        "                            va=\"bottom\",\n",
        "                            zorder=3,\n",
        "                        )\n",
        "    #print(rects)\n",
        "    # add some text for labels, title, and axes ticks\n",
        "    if kind == \"counts\":\n",
        "        ax.set_ylabel(\"Count\", fontsize=14)\n",
        "    else:\n",
        "        ax.set_ylabel(\"Quasi-probability\", fontsize=14)\n",
        "    all_vals = np.concatenate(all_pvalues).ravel()\n",
        "    min_ylim = 0.0\n",
        "    if kind == \"distribution\":\n",
        "        min_ylim = min(0.0, min(1.1 * val for val in all_vals))\n",
        "    ax.set_ylim([min_ylim, min([1.1 * sum(all_vals), max(1.1 * val for val in all_vals)])])\n",
        "    if \"desc\" in sort:\n",
        "        ax.invert_xaxis()\n",
        "\n",
        "    ax.yaxis.set_major_locator(MaxNLocator(5))\n",
        "    for tick in ax.yaxis.get_major_ticks():\n",
        "        tick.label1.set_fontsize(14)\n",
        "    plt.grid(which=\"major\", axis=\"y\", zorder=0, linestyle=\"--\")\n",
        "    if title:\n",
        "        plt.title(title)\n",
        "\n",
        "    if legend:\n",
        "        ax.legend(\n",
        "            loc=\"upper left\",\n",
        "            bbox_to_anchor=(1.01, 1.0),\n",
        "            ncol=1,\n",
        "            borderaxespad=0,\n",
        "            frameon=True,\n",
        "            fontsize=12,\n",
        "        )\n",
        "    if fig:\n",
        "        matplotlib_close_if_inline(fig)\n",
        "    if filename is None:\n",
        "        return fig\n",
        "    else:\n",
        "        return fig.savefig(filename)"
      ],
      "metadata": {
        "id": "8FPitYTQSb2U"
      },
      "execution_count": null,
      "outputs": []
    },
    {
      "cell_type": "code",
      "source": [
        "def _plot_data(data, labels, number_to_keep, kind=\"counts\"):\n",
        "    labels_dict = OrderedDict()\n",
        "    all_pvalues = []\n",
        "    all_inds = []\n",
        "\n",
        "    if isinstance(data, dict):\n",
        "        data = [data]\n",
        "    #if number_to_keep is not None:\n",
        "        #data = _unify_labels(_keep_largest_items(execution, number_to_keep) for execution in data)\n",
        "\n",
        "    for execution in data:\n",
        "        values = []\n",
        "        for key in labels:\n",
        "            if key not in execution:\n",
        "                if number_to_keep is None:\n",
        "                    labels_dict[key] = 1\n",
        "                    values.append(0)\n",
        "            else:\n",
        "                labels_dict[key] = 1\n",
        "                values.append(execution[key])\n",
        "        if kind == \"counts\":\n",
        "            pvalues = np.array(values, dtype=int)\n",
        "        else:\n",
        "            pvalues = np.array(values, dtype=float)\n",
        "            pvalues /= np.sum(pvalues)\n",
        "        all_pvalues.append(pvalues)\n",
        "        numelem = len(values)\n",
        "        ind = np.arange(numelem)  # the x locations for the groups\n",
        "        all_inds.append(ind)\n",
        "    return labels_dict, all_pvalues, all_inds"
      ],
      "metadata": {
        "id": "B9S6dld5WXBp"
      },
      "execution_count": null,
      "outputs": []
    },
    {
      "cell_type": "code",
      "source": [
        "counts = {'001': 0, '011': 30, '010': 0, '000': 0, '101': 0, '111': 0,\n",
        "        '100': 0, '110': 0}\n",
        "\n",
        "# Sort by the counts in descending order\n",
        "plot_histogram(counts, sort='value_desc', legend=[\"1\", \"4\"])\n"
      ],
      "metadata": {
        "id": "oOB5QRP_f7fX"
      },
      "execution_count": null,
      "outputs": []
    },
    {
      "cell_type": "code",
      "source": [
        "plot_histogram([dist_1, dist_2, dist_3], legend=[\"1\",\"2\",\"3\"])"
      ],
      "metadata": {
        "id": "bLTQ2-uAqK44"
      },
      "execution_count": null,
      "outputs": []
    },
    {
      "cell_type": "code",
      "source": [
        "from qiskit.visualization import plot_distribution\n",
        "plot_distribution([dist_1, dist_2, dist_3], legend=[\"1\",\"2\",\"3\"])\n"
      ],
      "metadata": {
        "id": "Nf2MnKGEnTMd"
      },
      "execution_count": null,
      "outputs": []
    },
    {
      "cell_type": "code",
      "source": [
        "from qiskit.visualization import plot_histogram as ph\n",
        "dist_1 = {'01': 0.369, '00': 0.13975, '10': 0.45875, '11': 0.0325}\n",
        "dist_2 = {'00': 0.011835180722095105,\n",
        " '01': 0.48784140401270437,\n",
        " '10': 0.4983486948083151,\n",
        " '11': 0.001974720456885419}\n",
        "dist_3 = {'01': 0.4999999999999999, '10': 0.4999999999999999, '00':0.000000000001}\n",
        "\n",
        "legends = [\"1\", \"2\", \"3\"]\n",
        "p = ph([dist_1, dist_2, dist_3], legend=legends)\n",
        "len(p._localaxes[0].legend_.texts)\n"
      ],
      "metadata": {
        "id": "fZQ-IwZ_rxKm"
      },
      "execution_count": null,
      "outputs": []
    },
    {
      "cell_type": "code",
      "source": [
        "from qiskit.visualization import plot_distribution\n",
        "dist_1 = {'0': 0.369, '1': 0.13975}\n",
        "dist_2 = {'0': 0, '1': 0.48784140401270437}\n",
        "legends = [\"1\", \"2\"]\n",
        "display(ph([dist_1, dist_2], legend=legends))\n",
        "display(plot_distribution([dist_1, dist_2], legend=legends))"
      ],
      "metadata": {
        "id": "63GiLwwg-KUq"
      },
      "execution_count": null,
      "outputs": []
    }
  ]
}