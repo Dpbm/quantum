{
 "cells": [
  {
   "cell_type": "code",
   "execution_count": 2,
   "id": "4bd04b51-66b0-4d82-b1a3-85ec3c359ace",
   "metadata": {},
   "outputs": [],
   "source": [
    "from qiskit import QuantumCircuit\n",
    "from qiskit.quantum_info import Statevector"
   ]
  },
  {
   "cell_type": "code",
   "execution_count": 45,
   "id": "774478a0-cb1d-40f0-8453-70737d4e2ba5",
   "metadata": {},
   "outputs": [
    {
     "data": {
      "text/latex": [
       "$$\\frac{\\sqrt{2}}{2} |00\\rangle+\\frac{\\sqrt{2}}{2} |11\\rangle$$"
      ],
      "text/plain": [
       "<IPython.core.display.Latex object>"
      ]
     },
     "execution_count": 45,
     "metadata": {},
     "output_type": "execute_result"
    }
   ],
   "source": [
    "qc = QuantumCircuit(2, 1)\n",
    "\n",
    "# when the hadamard gate is 1 the second qubit will be 1 too\n",
    "# when the h gate is 0 the second qubit will be 0 too\n",
    "# this happens because we are using a CNOT to entangle them\n",
    "\n",
    "qc.h(0)\n",
    "qc.cx(0, 1)\n",
    "\n",
    "\n",
    "st = Statevector(qc)\n",
    "st.draw(\"latex\")\n"
   ]
  },
  {
   "cell_type": "code",
   "execution_count": 37,
   "id": "70ad5a3d-1aca-4afe-a5ca-cee520e68197",
   "metadata": {},
   "outputs": [
    {
     "data": {
      "text/latex": [
       "$$ |11\\rangle$$"
      ],
      "text/plain": [
       "<IPython.core.display.Latex object>"
      ]
     },
     "execution_count": 37,
     "metadata": {},
     "output_type": "execute_result"
    }
   ],
   "source": [
    "qc2 = QuantumCircuit(2, 1)\n",
    "\n",
    "qc2.x(0)\n",
    "qc2.x(1)\n",
    "qc2.cz(0, 1)\n",
    "qc2.cz(0, 1)\n",
    "\n",
    "\n",
    "st = Statevector(qc2)\n",
    "st.draw(\"latex\")\n"
   ]
  },
  {
   "cell_type": "code",
   "execution_count": 52,
   "id": "dae43837-ab5f-4213-8f96-a2528a9ee3e3",
   "metadata": {},
   "outputs": [
    {
     "data": {
      "text/latex": [
       "$$\\frac{1}{2} |00\\rangle- \\frac{1}{2} |01\\rangle- \\frac{1}{2} |10\\rangle+\\frac{1}{2} |11\\rangle$$"
      ],
      "text/plain": [
       "<IPython.core.display.Latex object>"
      ]
     },
     "execution_count": 52,
     "metadata": {},
     "output_type": "execute_result"
    }
   ],
   "source": [
    "qc3 = QuantumCircuit(2, 1)\n",
    "\n",
    "qc3.h(0)\n",
    "qc3.h(1)\n",
    "\n",
    "qc3.z(0)\n",
    "qc3.cx(1,0)\n",
    "\n",
    "st = Statevector(qc3)\n",
    "\n",
    "st.draw(\"latex\")"
   ]
  },
  {
   "cell_type": "code",
   "execution_count": 11,
   "id": "30d87f13-65b0-4b91-9556-77d6c2b4dc51",
   "metadata": {},
   "outputs": [
    {
     "data": {
      "text/plain": [
       "{'10': 1024}"
      ]
     },
     "execution_count": 11,
     "metadata": {},
     "output_type": "execute_result"
    }
   ],
   "source": [
    "# this is a simple idea of how a message could be encoded using quantum computing\n",
    "\n",
    "# Alice encodes a message\n",
    "MESSAGE = '10'\n",
    "\n",
    "qc_alice = QuantumCircuit(2)\n",
    "\n",
    "if MESSAGE[-1] == '1':\n",
    "    qc_alice.x(0)\n",
    "if MESSAGE[-2] == '1':\n",
    "    qc_alice.x(1)\n",
    "\n",
    "# Bob gets the message and decode it\n",
    "from qiskit import Aer\n",
    "backend = Aer.get_backend('aer_simulator')\n",
    "\n",
    "# Bob measures\n",
    "qc_bob = QuantumCircuit(2,2)\n",
    "qc_bob.measure([0,1],[0,1])\n",
    "\n",
    "backend.run(qc_alice.compose(qc_bob)).result().get_counts()\n",
    "    \n",
    "    \n",
    "    \n"
   ]
  },
  {
   "cell_type": "code",
   "execution_count": 20,
   "id": "ad57c096-5f35-41f6-b6f4-95ab167f0b85",
   "metadata": {},
   "outputs": [
    {
     "name": "stdout",
     "output_type": "stream",
     "text": [
      "     ┌───┐┌───┐┌─┐   \n",
      "q_0: ┤ H ├┤ X ├┤M├───\n",
      "     └───┘└─┬─┘└╥┘┌─┐\n",
      "q_1: ───────■───╫─┤M├\n",
      "                ║ └╥┘\n",
      "c: 2/═══════════╩══╩═\n",
      "                0  1 \n",
      "{'00': 520, '01': 504}\n"
     ]
    }
   ],
   "source": [
    "qc_test = QuantumCircuit(2,2)\n",
    "qc_test.h(0)\n",
    "qc_test.cx(1,0)\n",
    "qc_test.measure([0, 1], [0,1])\n",
    "print(qc_test)\n",
    "\n",
    "from qiskit.providers.aer import AerSimulator\n",
    "sim = AerSimulator()\n",
    "job = sim.run(qc_test)\n",
    "results = job.result()\n",
    "print(results.get_counts())\n"
   ]
  },
  {
   "cell_type": "code",
   "execution_count": 34,
   "id": "95f61f57-6de0-4c03-9598-8bcf6d1c29e7",
   "metadata": {},
   "outputs": [
    {
     "name": "stdout",
     "output_type": "stream",
     "text": [
      "               ┌───┐\n",
      "q_0: ──────────┤ X ├\n",
      "     ┌───┐┌───┐└─┬─┘\n",
      "q_1: ┤ X ├┤ H ├──■──\n",
      "     └───┘└───┘     \n",
      "c: 2/═══════════════\n",
      "                    \n"
     ]
    },
    {
     "data": {
      "text/latex": [
       "$$\\frac{\\sqrt{2}}{2} |00\\rangle- \\frac{\\sqrt{2}}{2} |11\\rangle$$"
      ],
      "text/plain": [
       "<IPython.core.display.Latex object>"
      ]
     },
     "execution_count": 34,
     "metadata": {},
     "output_type": "execute_result"
    }
   ],
   "source": [
    "# Using entagled states to encode the message\n",
    "MESSAGE = '10'\n",
    "\n",
    "qc_alice = QuantumCircuit(2,2)\n",
    "\n",
    "# Alice encodes the message\n",
    "if MESSAGE[-1]=='1':\n",
    "    qc_alice.x(0)\n",
    "if MESSAGE[-2]=='1':\n",
    "    qc_alice.x(1)\n",
    "\n",
    "# then she creates entangled states\n",
    "qc_alice.h(1)\n",
    "qc_alice.cx(1,0)\n",
    "print(qc_alice)\n",
    "\n",
    "ket = Statevector(qc_alice)\n",
    "ket.draw(\"latex\")\n"
   ]
  },
  {
   "cell_type": "code",
   "execution_count": 46,
   "id": "ba31b923-11f2-473e-a3c9-a5915eaf0837",
   "metadata": {},
   "outputs": [
    {
     "data": {
      "text/html": [
       "<pre style=\"word-wrap: normal;white-space: pre;background: #fff0;line-height: 1.1;font-family: &quot;Courier New&quot;,Courier,monospace\">     ┌───┐     ┌─┐   \n",
       "q_0: ┤ X ├─────┤M├───\n",
       "     └─┬─┘┌───┐└╥┘┌─┐\n",
       "q_1: ──■──┤ H ├─╫─┤M├\n",
       "          └───┘ ║ └╥┘\n",
       "c: 2/═══════════╩══╩═\n",
       "                0  1 </pre>"
      ],
      "text/plain": [
       "     ┌───┐     ┌─┐   \n",
       "q_0: ┤ X ├─────┤M├───\n",
       "     └─┬─┘┌───┐└╥┘┌─┐\n",
       "q_1: ──■──┤ H ├─╫─┤M├\n",
       "          └───┘ ║ └╥┘\n",
       "c: 2/═══════════╩══╩═\n",
       "                0  1 "
      ]
     },
     "execution_count": 46,
     "metadata": {},
     "output_type": "execute_result"
    }
   ],
   "source": [
    "\n",
    "qc_bob = QuantumCircuit(2,2)\n",
    "# Bob disentangles\n",
    "qc_bob.cx(1,0)\n",
    "qc_bob.h(1)\n",
    "# Then measures\n",
    "qc_bob.measure([0,1],[0,1])\n",
    "\n",
    "qc_bob.draw()\n",
    "\n"
   ]
  },
  {
   "cell_type": "code",
   "execution_count": 36,
   "id": "6b7cd5a6-ba40-4f33-9b02-ab0384bb2a01",
   "metadata": {},
   "outputs": [
    {
     "data": {
      "text/plain": [
       "{'10': 1024}"
      ]
     },
     "execution_count": 36,
     "metadata": {},
     "output_type": "execute_result"
    }
   ],
   "source": [
    "backend.run(qc_alice.compose(qc_bob)).result().get_counts()"
   ]
  },
  {
   "cell_type": "code",
   "execution_count": 48,
   "id": "831869a4-3c7e-400f-9bec-89d9bef48ad2",
   "metadata": {},
   "outputs": [
    {
     "name": "stdout",
     "output_type": "stream",
     "text": [
      "          ┌───┐     \n",
      "q_0: ─────┤ X ├─────\n",
      "     ┌───┐└─┬─┘┌───┐\n",
      "q_1: ┤ H ├──■──┤ Z ├\n",
      "     └───┘     └───┘\n",
      "c: 2/═══════════════\n",
      "                    \n"
     ]
    },
    {
     "data": {
      "text/latex": [
       "$$\\frac{\\sqrt{2}}{2} |00\\rangle- \\frac{\\sqrt{2}}{2} |11\\rangle$$"
      ],
      "text/plain": [
       "<IPython.core.display.Latex object>"
      ]
     },
     "execution_count": 48,
     "metadata": {},
     "output_type": "execute_result"
    }
   ],
   "source": [
    "MESSAGE = '10'\n",
    "\n",
    "qc_alice = QuantumCircuit(2,2)\n",
    "qc_alice.h(1)\n",
    "qc_alice.cx(1,0)\n",
    "\n",
    "if MESSAGE[-2]=='1':\n",
    "    qc_alice.z(1)\n",
    "if MESSAGE[-1]=='1':\n",
    "    qc_alice.x(1)\n",
    "\n",
    "print(qc_alice) \n",
    "ket = Statevector(qc_alice)\n",
    "ket.draw(\"latex\")"
   ]
  },
  {
   "cell_type": "code",
   "execution_count": 49,
   "id": "47af1425-00c3-4a75-af1d-dbad5fbab0e4",
   "metadata": {},
   "outputs": [
    {
     "data": {
      "text/plain": [
       "{'10': 1024}"
      ]
     },
     "execution_count": 49,
     "metadata": {},
     "output_type": "execute_result"
    }
   ],
   "source": [
    "\n",
    "backend.run(qc_alice.compose(qc_bob)).result().get_counts()"
   ]
  },
  {
   "cell_type": "code",
   "execution_count": 53,
   "id": "2d60854f-9ea7-43f5-9166-b64ae9797cee",
   "metadata": {},
   "outputs": [
    {
     "name": "stdout",
     "output_type": "stream",
     "text": [
      "     ┌───┐     \n",
      "q_0: ┤ H ├──■──\n",
      "     └───┘┌─┴─┐\n",
      "q_1: ─────┤ X ├\n",
      "          └───┘\n",
      "          \n",
      "q_0: ─────\n",
      "     ┌───┐\n",
      "q_1: ┤ X ├\n",
      "     └───┘\n",
      "     ┌───┐          ┌───┐     ┌─┐   \n",
      "q_0: ┤ H ├──■───────┤ X ├─────┤M├───\n",
      "     └───┘┌─┴─┐┌───┐└─┬─┘┌───┐└╥┘┌─┐\n",
      "q_1: ─────┤ X ├┤ X ├──■──┤ H ├─╫─┤M├\n",
      "          └───┘└───┘     └───┘ ║ └╥┘\n",
      "c: 2/══════════════════════════╩══╩═\n",
      "                               0  1 \n"
     ]
    },
    {
     "data": {
      "text/plain": [
       "{'01': 1024}"
      ]
     },
     "execution_count": 53,
     "metadata": {},
     "output_type": "execute_result"
    }
   ],
   "source": [
    "# thinking with three people\n",
    "\n",
    "# the first is responsible to create a entagled state\n",
    "third_party = QuantumCircuit(2)\n",
    "third_party.h(0)\n",
    "third_party.cx(0, 1)\n",
    "print(third_party)\n",
    "\n",
    "# the second to encode the message\n",
    "MESSAGE = '01'\n",
    "qc_alice = QuantumCircuit(2)\n",
    "\n",
    "if MESSAGE[-2]=='1':\n",
    "    qc_alice.z(1)\n",
    "if MESSAGE[-1]=='1':\n",
    "    qc_alice.x(1)\n",
    "\n",
    "print(qc_alice)\n",
    "    \n",
    "complete_qc = third_party.compose(qc_alice.compose(qc_bob))\n",
    "\n",
    "print(complete_qc)\n",
    "\n",
    "backend.run(complete_qc).result().get_counts()\n"
   ]
  },
  {
   "cell_type": "code",
   "execution_count": 61,
   "id": "a2edc796-0b39-4551-bf8d-0edb8623d913",
   "metadata": {},
   "outputs": [
    {
     "data": {
      "text/html": [
       "<pre style=\"word-wrap: normal;white-space: pre;background: #fff0;line-height: 1.1;font-family: &quot;Courier New&quot;,Courier,monospace\">     ┌───┐┌───┐┌─┐\n",
       "  q: ┤ X ├┤ Z ├┤M├\n",
       "     └───┘└───┘└╥┘\n",
       "c: 1/═══════════╩═\n",
       "                0 </pre>"
      ],
      "text/plain": [
       "     ┌───┐┌───┐┌─┐\n",
       "  q: ┤ X ├┤ Z ├┤M├\n",
       "     └───┘└───┘└╥┘\n",
       "c: 1/═══════════╩═\n",
       "                0 "
      ]
     },
     "execution_count": 61,
     "metadata": {},
     "output_type": "execute_result"
    }
   ],
   "source": [
    "meas_x = QuantumCircuit(1,1)\n",
    "meas_x.h(0)\n",
    "meas_x.measure(0,0)\n",
    "\n",
    "meas_x.draw()\n",
    "\n",
    "#ket = Statevector(meas_x)\n",
    "#ket.draw(\"latex\")"
   ]
  }
 ],
 "metadata": {
  "kernelspec": {
   "display_name": "Python 3 (ipykernel)",
   "language": "python",
   "name": "python3"
  },
  "language_info": {
   "codemirror_mode": {
    "name": "ipython",
    "version": 3
   },
   "file_extension": ".py",
   "mimetype": "text/x-python",
   "name": "python",
   "nbconvert_exporter": "python",
   "pygments_lexer": "ipython3",
   "version": "3.7.5"
  }
 },
 "nbformat": 4,
 "nbformat_minor": 5
}
