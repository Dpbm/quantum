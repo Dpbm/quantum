{
 "cells": [
  {
   "cell_type": "code",
   "execution_count": null,
   "id": "285d8887-37db-4085-8fc2-ace00001b150",
   "metadata": {},
   "outputs": [],
   "source": []
  }
 ],
 "metadata": {
  "kernelspec": {
   "display_name": "",
   "name": ""
  },
  "language_info": {
   "name": ""
  }
 },
 "nbformat": 4,
 "nbformat_minor": 5
}
