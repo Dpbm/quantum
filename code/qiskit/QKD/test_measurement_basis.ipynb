{
 "cells": [
  {
   "cell_type": "code",
   "execution_count": null,
   "id": "f216ba7f-5772-4c26-9354-4c20c9087136",
   "metadata": {
    "tags": []
   },
   "outputs": [],
   "source": [
    "import qutip.testing\n",
    "qutip.testing.run()"
   ]
  },
  {
   "cell_type": "code",
   "execution_count": null,
   "id": "c962a94d-0425-4bbd-b90d-041ed848fef2",
   "metadata": {
    "tags": []
   },
   "outputs": [],
   "source": [
    "import qutip\n",
    "qutip.about()"
   ]
  },
  {
   "cell_type": "code",
   "execution_count": 11,
   "id": "3309b1b7-fe00-4ed5-8c79-fe2e5f22f1cc",
   "metadata": {
    "tags": []
   },
   "outputs": [],
   "source": [
    "from qiskit import QuantumCircuit\n",
    "from qiskit.quantum_info import Statevector\n",
    "from sympy import *\n",
    "import numpy as np"
   ]
  },
  {
   "cell_type": "code",
   "execution_count": 14,
   "id": "2a99db34-db34-41a5-93bd-aa0cb50da210",
   "metadata": {
    "tags": []
   },
   "outputs": [
    {
     "data": {
      "image/png": "[encoded data removed]",
      "text/plain": [
       "<Figure size 352.675x117.056 with 1 Axes>"
      ]
     },
     "metadata": {},
     "output_type": "display_data"
    },
    {
     "data": {
      "text/latex": [
       "$$\\frac{\\sqrt{2}}{2} |0\\rangle+(- \\frac{1}{2} - \\frac{i}{2}) |1\\rangle$$"
      ],
      "text/plain": [
       "<IPython.core.display.Latex object>"
      ]
     },
     "metadata": {},
     "output_type": "display_data"
    }
   ],
   "source": [
    "meas = QuantumCircuit(1)\n",
    "meas.h(0)\n",
    "meas.t(0)\n",
    "meas.z(0)\n",
    "display(meas.draw(\"mpl\"), Statevector(meas).draw(\"latex\"))"
   ]
  },
  {
   "cell_type": "code",
   "execution_count": 24,
   "id": "d27d1aea-2b19-492e-9e02-c8a188e3172f",
   "metadata": {
    "tags": []
   },
   "outputs": [
    {
     "data": {
      "image/png": "[encoded data removed]",
      "text/plain": [
       "<Figure size 519.897x117.056 with 1 Axes>"
      ]
     },
     "metadata": {},
     "output_type": "display_data"
    },
    {
     "data": {
      "text/latex": [
       "$$\\frac{\\sqrt{2}}{2} |0\\rangle+(\\frac{1}{2} + \\frac{i}{2}) |1\\rangle$$"
      ],
      "text/plain": [
       "<IPython.core.display.Latex object>"
      ]
     },
     "metadata": {},
     "output_type": "display_data"
    }
   ],
   "source": [
    "one = QuantumCircuit(1)\n",
    "one.x(0)\n",
    "one.barrier()\n",
    "one.append(meas.to_gate(label=\"measurement\"), [0])\n",
    "display(one.draw(\"mpl\"), Statevector(one).draw(\"latex\"))"
   ]
  },
  {
   "cell_type": "markdown",
   "id": "4398eddc-5680-41a6-a6b5-e2383448bfea",
   "metadata": {},
   "source": [
    "$|ψ_1⟩ = \\begin{bmatrix} \n",
    "{\\sqrt 2 \\over 2}  \\\\\n",
    "{- 1 - i \\over 2} \n",
    "\\end{bmatrix}$\n",
    "\n",
    "$|ψ_2⟩ = \\begin{bmatrix} \n",
    "{\\sqrt 2 \\over 2}  \\\\\n",
    "{1 + i \\over 2} \n",
    "\\end{bmatrix}$"
   ]
  },
  {
   "cell_type": "code",
   "execution_count": 41,
   "id": "13bd8424-886f-415d-a5d2-b5af138e2d37",
   "metadata": {
    "tags": []
   },
   "outputs": [
    {
     "data": {
      "text/plain": [
       "(matrix([[ 0.70710678+0.j ],\n",
       "         [-0.5       -0.5j]]),\n",
       " matrix([[0.70710678+0.j ],\n",
       "         [0.5       +0.5j]]))"
      ]
     },
     "execution_count": 41,
     "metadata": {},
     "output_type": "execute_result"
    }
   ],
   "source": [
    "_1 = np.matrix([ [np.sqrt(2)/2], [(-1j - 1)/2] ])\n",
    "_2 = np.matrix([ [np.sqrt(2)/2], [(1j + 1)/2] ])\n",
    "_1, _2"
   ]
  },
  {
   "cell_type": "code",
   "execution_count": 44,
   "id": "fc6aa6e6-0d9c-4a9d-878e-3ef7fd63c806",
   "metadata": {
    "tags": []
   },
   "outputs": [
    {
     "data": {
      "text/plain": [
       "matrix([[1.11022302e-16+0.j]])"
      ]
     },
     "execution_count": 44,
     "metadata": {},
     "output_type": "execute_result"
    }
   ],
   "source": [
    "_1.H * _2"
   ]
  }
 ],
 "metadata": {
  "kernelspec": {
   "display_name": "Python 3 (ipykernel)",
   "language": "python",
   "name": "python3"
  },
  "language_info": {
   "codemirror_mode": {
    "name": "ipython",
    "version": 3
   },
   "file_extension": ".py",
   "mimetype": "text/x-python",
   "name": "python",
   "nbconvert_exporter": "python",
   "pygments_lexer": "ipython3",
   "version": "3.7.5"
  }
 },
 "nbformat": 4,
 "nbformat_minor": 5
}
