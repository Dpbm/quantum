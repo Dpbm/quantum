{
 "cells": [
  {
   "cell_type": "code",
   "execution_count": 88,
   "id": "d7a4b8ee-5f87-4361-be0e-9f3510212dd0",
   "metadata": {
    "tags": []
   },
   "outputs": [],
   "source": [
    "from qiskit import QuantumCircuit, QuantumRegister, transpile\n",
    "from qiskit.quantum_info import Statevector"
   ]
  },
  {
   "cell_type": "markdown",
   "id": "18bce585-f92c-459f-af57-8714c2b9fcba",
   "metadata": {},
   "source": [
    "# Alice part"
   ]
  },
  {
   "cell_type": "code",
   "execution_count": 127,
   "id": "52cd9c75-82ff-467e-a39f-dee40bdc5ed4",
   "metadata": {
    "tags": []
   },
   "outputs": [],
   "source": [
    "def get_circuit(bitstring, circuit):\n",
    "    circuit.h(1)\n",
    "    \n",
    "    if(bitstring[-1] == '1'):\n",
    "        circuit.x(0)\n",
    "    \n",
    "    if(bitstring[0] == '1'):\n",
    "        circuit.z(1)\n",
    "    \n",
    "    \n",
    "    circuit.cx(1, 0)\n",
    "\n",
    "    return circuit"
   ]
  },
  {
   "cell_type": "code",
   "execution_count": 128,
   "id": "dd71cd3a-cd5c-42ef-8268-5c0b0b6c5cbe",
   "metadata": {
    "tags": []
   },
   "outputs": [
    {
     "data": {
      "image/png": "[encoded data removed]",
      "text/plain": [
       "<Figure size 370.906x200.667 with 1 Axes>"
      ]
     },
     "metadata": {},
     "output_type": "display_data"
    },
    {
     "data": {
      "text/latex": [
       "$$\\frac{\\sqrt{2}}{2} |01\\rangle- \\frac{\\sqrt{2}}{2} |10\\rangle$$"
      ],
      "text/plain": [
       "<IPython.core.display.Latex object>"
      ]
     },
     "execution_count": 128,
     "metadata": {},
     "output_type": "execute_result"
    }
   ],
   "source": [
    "alice_bitstring = \"11\"\n",
    "alice = get_circuit(alice_bitstring, QuantumCircuit(2))\n",
    "\n",
    "display(alice.draw('mpl'))\n",
    "Statevector(alice).draw('latex')"
   ]
  },
  {
   "cell_type": "markdown",
   "id": "22dba644-0e24-42d9-99ef-330365469527",
   "metadata": {},
   "source": [
    "# Bob part"
   ]
  },
  {
   "cell_type": "code",
   "execution_count": 80,
   "id": "4c5d7a36-7399-4f33-b48a-8b3ca1948879",
   "metadata": {
    "tags": []
   },
   "outputs": [
    {
     "data": {
      "image/png": "[encoded data removed]",
      "text/plain": [
       "<Figure size 454.517x200.667 with 1 Axes>"
      ]
     },
     "metadata": {},
     "output_type": "display_data"
    },
    {
     "data": {
      "text/latex": [
       "$$ |11\\rangle$$"
      ],
      "text/plain": [
       "<IPython.core.display.Latex object>"
      ]
     },
     "execution_count": 80,
     "metadata": {},
     "output_type": "execute_result"
    }
   ],
   "source": [
    "bob = QuantumCircuit(2)\n",
    "\n",
    "bob.append(alice.to_gate(label=\"alice\"), range(2))\n",
    "bob.cx(1, 0)\n",
    "bob.h(1)\n",
    "\n",
    "display(bob.draw('mpl'))\n",
    "Statevector(bob).draw('latex')"
   ]
  },
  {
   "cell_type": "markdown",
   "id": "661a2db0-8db6-4f5d-b15d-a7238702e1ad",
   "metadata": {},
   "source": [
    "# Tests"
   ]
  },
  {
   "cell_type": "code",
   "execution_count": 129,
   "id": "a66bb37d-329f-41fd-b408-039cf42aeef7",
   "metadata": {
    "tags": []
   },
   "outputs": [
    {
     "data": {
      "image/png": "[encoded data removed]",
      "text/plain": [
       "<Figure size 538.33x367.889 with 1 Axes>"
      ]
     },
     "metadata": {},
     "output_type": "display_data"
    },
    {
     "name": "stdout",
     "output_type": "stream",
     "text": [
      "{'0000': (2.3615800235104453e-17+0j), '0001': (1.263161534703704e-34+0j), '0010': (0.9999999999999993+0j), '0011': (9.524207825395958e-18+0j), '0100': (9.185520264200627e-34+0j), '0101': (-2.9381263138345146e-51+0j), '0110': (-1.346926387753497e-17+0j), '0111': (1.7328066208003958e-34+0j), '1000': (-3.657279134852639e-34+0j), '1001': (3.4451409158897254e-51+0j), '1010': (-8.901879293222452e-18+0j), '1011': (-9.932057477794603e-35+0j), '1100': (-4.0840550818574104e-50+0j), '1101': (-1.0853864861715226e-67+0j), '1110': (-3.45159780542769e-34+0j), '1111': (3.1812954525117117e-51+0j)}\n"
     ]
    },
    {
     "data": {
      "text/latex": [
       "$$ |0010\\rangle$$"
      ],
      "text/plain": [
       "<IPython.core.display.Latex object>"
      ]
     },
     "execution_count": 129,
     "metadata": {},
     "output_type": "execute_result"
    }
   ],
   "source": [
    "qc = QuantumCircuit(4)\n",
    "\n",
    "qc.x(1)\n",
    "\n",
    "qc.h(range(4))\n",
    "qc.cx(3, 2)\n",
    "qc.cx(1, 0)\n",
    "\n",
    "\n",
    "\n",
    "\n",
    "qc.cx(3, 2)\n",
    "qc.cx(1, 0)\n",
    "qc.h(range(4))\n",
    "\n",
    "\n",
    "display(qc.draw('mpl'))\n",
    "st = Statevector(qc)\n",
    "print(st.to_dict())\n",
    "st.draw(\"latex\")\n"
   ]
  }
 ],
 "metadata": {
  "kernelspec": {
   "display_name": "Python 3 (ipykernel)",
   "language": "python",
   "name": "python3"
  },
  "language_info": {
   "codemirror_mode": {
    "name": "ipython",
    "version": 3
   },
   "file_extension": ".py",
   "mimetype": "text/x-python",
   "name": "python",
   "nbconvert_exporter": "python",
   "pygments_lexer": "ipython3",
   "version": "3.7.5"
  }
 },
 "nbformat": 4,
 "nbformat_minor": 5
}
