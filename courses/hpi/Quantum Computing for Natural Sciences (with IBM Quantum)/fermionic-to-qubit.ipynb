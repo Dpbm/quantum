{
 "cells": [
  {
   "cell_type": "code",
   "execution_count": 7,
   "id": "181be317-5d1a-4332-9119-80b6e40ac3db",
   "metadata": {},
   "outputs": [],
   "source": [
    "from qiskit_nature.second_q.operators import FermionicOp\n",
    "from qiskit_nature.second_q.mappers import JordanWignerMapper"
   ]
  },
  {
   "cell_type": "code",
   "execution_count": 11,
   "id": "6a003809-c707-4773-a991-d60d0f3704e9",
   "metadata": {},
   "outputs": [],
   "source": [
    "import qiskit_nature.settings as settings\n",
    "settings.use_pauli_sum_op = False"
   ]
  },
  {
   "cell_type": "code",
   "execution_count": 5,
   "id": "3ea10a78-73a8-4272-ac9d-f319c8f6b6be",
   "metadata": {},
   "outputs": [
    {
     "data": {
      "text/plain": [
       "FermionicOp({'+_2': 1.0}, num_spin_orbitals=4, )"
      ]
     },
     "execution_count": 5,
     "metadata": {},
     "output_type": "execute_result"
    }
   ],
   "source": [
    "op = FermionicOp(\n",
    "    {\n",
    "        \"+_2\": 1.0,\n",
    "    },\n",
    "    num_spin_orbitals=4,\n",
    ")\n",
    "op"
   ]
  },
  {
   "cell_type": "code",
   "execution_count": 12,
   "id": "339e2700-c9c9-46e8-b6cb-17707b1ebbed",
   "metadata": {},
   "outputs": [
    {
     "data": {
      "text/plain": [
       "SparsePauliOp(['IXZZ', 'IYZZ'],\n",
       "              coeffs=[0.5+0.j , 0. -0.5j])"
      ]
     },
     "execution_count": 12,
     "metadata": {},
     "output_type": "execute_result"
    }
   ],
   "source": [
    "mapper = JordanWignerMapper()\n",
    "mapper.map(op)"
   ]
  },
  {
   "cell_type": "code",
   "execution_count": 13,
   "id": "9ffb641a-61f1-499e-9ab3-7e62b06c097b",
   "metadata": {},
   "outputs": [
    {
     "data": {
      "text/plain": [
       "FermionicOp({'+_1 -_3': 1.0}, num_spin_orbitals=4, )"
      ]
     },
     "execution_count": 13,
     "metadata": {},
     "output_type": "execute_result"
    }
   ],
   "source": [
    "op2 = FermionicOp(\n",
    "    {\n",
    "        \"+_1 -_3\": 1.0\n",
    "    },\n",
    "    num_spin_orbitals=4,\n",
    ")\n",
    "op2"
   ]
  },
  {
   "cell_type": "code",
   "execution_count": 16,
   "id": "11246f7c-59bb-4928-9ff2-147ce04e3efb",
   "metadata": {},
   "outputs": [
    {
     "data": {
      "text/plain": [
       "SparsePauliOp(['XZYI', 'YZYI', 'XZXI', 'YZXI'],\n",
       "              coeffs=[0.  -0.25j, 0.25+0.j  , 0.25+0.j  , 0.  +0.25j])"
      ]
     },
     "execution_count": 16,
     "metadata": {},
     "output_type": "execute_result"
    }
   ],
   "source": [
    "mapper.map(op2)"
   ]
  }
 ],
 "metadata": {
  "kernelspec": {
   "display_name": "Python 3 (ipykernel)",
   "language": "python",
   "name": "python3"
  },
  "language_info": {
   "codemirror_mode": {
    "name": "ipython",
    "version": 3
   },
   "file_extension": ".py",
   "mimetype": "text/x-python",
   "name": "python",
   "nbconvert_exporter": "python",
   "pygments_lexer": "ipython3",
   "version": "3.8.15"
  }
 },
 "nbformat": 4,
 "nbformat_minor": 5
}
