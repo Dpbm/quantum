{
 "cells": [
  {
   "cell_type": "code",
   "execution_count": 3,
   "id": "1f3fb6bf-6d1d-4fa1-bddb-c1d2577a05eb",
   "metadata": {},
   "outputs": [],
   "source": [
    "import numpy as np\n",
    "import pandas as pd"
   ]
  },
  {
   "cell_type": "code",
   "execution_count": 30,
   "id": "8fbc438a-ba9b-4769-9c75-52ecac5d514a",
   "metadata": {},
   "outputs": [],
   "source": [
    "d_t = lambda t, a: (np.power(t,2) - np.power(a, 2)) / (t - a) "
   ]
  },
  {
   "cell_type": "code",
   "execution_count": 59,
   "id": "8dd29b35-c55c-459a-b471-713629e54c1d",
   "metadata": {},
   "outputs": [
    {
     "name": "stdout",
     "output_type": "stream",
     "text": [
      "T Values:  [2.9999  2.99991 2.99992 ... 3.09998 3.09999 3.1    ]\n",
      "D(t) Values:  [5.9999  5.99991 5.99992 ... 6.09998 6.09999 6.1    ]\n"
     ]
    }
   ],
   "source": [
    "a = 3\n",
    "min_t = 2.99990\n",
    "max_t = 3.1\n",
    "step = 0.00001\n",
    "\n",
    "t_values = np.arange(min_t, max_t, step)\n",
    "print('T Values: ', t_values)\n",
    "\n",
    "temp_d_t = lambda t: d_t(t, a) \n",
    "vec = np.vectorize(temp_d_t)\n",
    "d_t_values = vec(t_values)\n",
    "print(\"D(t) Values: \", d_t_values)"
   ]
  },
  {
   "cell_type": "code",
   "execution_count": 60,
   "id": "4621c2b8-c02e-48be-a832-75657b323543",
   "metadata": {},
   "outputs": [],
   "source": [
    "# just fix a problem with power\n",
    "t_values = np.delete(t_values, 10)\n",
    "d_t_values = np.delete(d_t_values, 10)"
   ]
  },
  {
   "cell_type": "code",
   "execution_count": 61,
   "id": "0863af84-5f45-49a2-b83f-2d1069872497",
   "metadata": {},
   "outputs": [
    {
     "data": {
      "text/plain": [
       "array([2.9999 , 2.99991, 2.99992, ..., 3.09998, 3.09999, 3.1    ])"
      ]
     },
     "execution_count": 61,
     "metadata": {},
     "output_type": "execute_result"
    }
   ],
   "source": [
    "t_values"
   ]
  },
  {
   "cell_type": "code",
   "execution_count": 62,
   "id": "387a25b5-28fd-4cf8-bf4f-d294a0fd1d67",
   "metadata": {},
   "outputs": [
    {
     "data": {
      "text/plain": [
       "<Axes: >"
      ]
     },
     "execution_count": 62,
     "metadata": {},
     "output_type": "execute_result"
    },
    {
     "data": {
      "image/png": "[encoded data removed]",
      "text/plain": [
       "<Figure size 640x480 with 1 Axes>"
      ]
     },
     "metadata": {},
     "output_type": "display_data"
    }
   ],
   "source": [
    "%matplotlib inline\n",
    "import seaborn as sns\n",
    "\n",
    "sns.lineplot(y=d_t_values, x=t_values)"
   ]
  },
  {
   "cell_type": "code",
   "execution_count": 66,
   "id": "e2309a37-0495-4e10-9ba8-33d64a92cc4a",
   "metadata": {},
   "outputs": [
    {
     "data": {
      "text/html": [
       "<div>\n",
       "<style scoped>\n",
       "    .dataframe tbody tr th:only-of-type {\n",
       "        vertical-align: middle;\n",
       "    }\n",
       "\n",
       "    .dataframe tbody tr th {\n",
       "        vertical-align: top;\n",
       "    }\n",
       "\n",
       "    .dataframe thead th {\n",
       "        text-align: right;\n",
       "    }\n",
       "</style>\n",
       "<table border=\"1\" class=\"dataframe\">\n",
       "  <thead>\n",
       "    <tr style=\"text-align: right;\">\n",
       "      <th></th>\n",
       "      <th>t</th>\n",
       "      <th>D(t)</th>\n",
       "    </tr>\n",
       "  </thead>\n",
       "  <tbody>\n",
       "    <tr>\n",
       "      <th>0</th>\n",
       "      <td>2.99990</td>\n",
       "      <td>5.99990</td>\n",
       "    </tr>\n",
       "    <tr>\n",
       "      <th>1</th>\n",
       "      <td>2.99991</td>\n",
       "      <td>5.99991</td>\n",
       "    </tr>\n",
       "    <tr>\n",
       "      <th>2</th>\n",
       "      <td>2.99992</td>\n",
       "      <td>5.99992</td>\n",
       "    </tr>\n",
       "    <tr>\n",
       "      <th>3</th>\n",
       "      <td>2.99993</td>\n",
       "      <td>5.99993</td>\n",
       "    </tr>\n",
       "    <tr>\n",
       "      <th>4</th>\n",
       "      <td>2.99994</td>\n",
       "      <td>5.99994</td>\n",
       "    </tr>\n",
       "    <tr>\n",
       "      <th>...</th>\n",
       "      <td>...</td>\n",
       "      <td>...</td>\n",
       "    </tr>\n",
       "    <tr>\n",
       "      <th>10005</th>\n",
       "      <td>3.09996</td>\n",
       "      <td>6.09996</td>\n",
       "    </tr>\n",
       "    <tr>\n",
       "      <th>10006</th>\n",
       "      <td>3.09997</td>\n",
       "      <td>6.09997</td>\n",
       "    </tr>\n",
       "    <tr>\n",
       "      <th>10007</th>\n",
       "      <td>3.09998</td>\n",
       "      <td>6.09998</td>\n",
       "    </tr>\n",
       "    <tr>\n",
       "      <th>10008</th>\n",
       "      <td>3.09999</td>\n",
       "      <td>6.09999</td>\n",
       "    </tr>\n",
       "    <tr>\n",
       "      <th>10009</th>\n",
       "      <td>3.10000</td>\n",
       "      <td>6.10000</td>\n",
       "    </tr>\n",
       "  </tbody>\n",
       "</table>\n",
       "<p>10010 rows × 2 columns</p>\n",
       "</div>"
      ],
      "text/plain": [
       "             t     D(t)\n",
       "0      2.99990  5.99990\n",
       "1      2.99991  5.99991\n",
       "2      2.99992  5.99992\n",
       "3      2.99993  5.99993\n",
       "4      2.99994  5.99994\n",
       "...        ...      ...\n",
       "10005  3.09996  6.09996\n",
       "10006  3.09997  6.09997\n",
       "10007  3.09998  6.09998\n",
       "10008  3.09999  6.09999\n",
       "10009  3.10000  6.10000\n",
       "\n",
       "[10010 rows x 2 columns]"
      ]
     },
     "execution_count": 66,
     "metadata": {},
     "output_type": "execute_result"
    }
   ],
   "source": [
    "df = pd.DataFrame({\n",
    "    't': pd.Series(t_values),\n",
    "    'D(t)': pd.Series(d_t_values)\n",
    "})\n",
    "df"
   ]
  }
 ],
 "metadata": {
  "kernelspec": {
   "display_name": "Python 3 (ipykernel)",
   "language": "python",
   "name": "python3"
  },
  "language_info": {
   "codemirror_mode": {
    "name": "ipython",
    "version": 3
   },
   "file_extension": ".py",
   "mimetype": "text/x-python",
   "name": "python",
   "nbconvert_exporter": "python",
   "pygments_lexer": "ipython3",
   "version": "3.8.15"
  }
 },
 "nbformat": 4,
 "nbformat_minor": 5
}
